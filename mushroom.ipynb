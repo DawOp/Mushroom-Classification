{
 "cells": [
  {
   "cell_type": "code",
   "execution_count": 45,
   "id": "72558283",
   "metadata": {},
   "outputs": [],
   "source": [
    "# https://www.kaggle.com/uciml/mushroom-classification\n",
    "\n",
    "# Attribute Information: (classes: edible=e, poisonous=p)\n",
    "\n",
    "# cap-shape: bell=b,conical=c,convex=x,flat=f, knobbed=k,sunken=s\n",
    "\n",
    "# cap-surface: fibrous=f,grooves=g,scaly=y,smooth=s\n",
    "\n",
    "# cap-color: brown=n,buff=b,cinnamon=c,gray=g,green=r,pink=p,purple=u,red=e,white=w,yellow=y\n",
    "\n",
    "# bruises: bruises=t,no=f\n",
    "\n",
    "# odor: almond=a,anise=l,creosote=c,fishy=y,foul=f,musty=m,none=n,pungent=p,spicy=s\n",
    "\n",
    "# gill-attachment: attached=a,descending=d,free=f,notched=n\n",
    "\n",
    "# gill-spacing: close=c,crowded=w,distant=d\n",
    "\n",
    "# gill-size: broad=b,narrow=n\n",
    "\n",
    "# gill-color: black=k,brown=n,buff=b,chocolate=h,gray=g, green=r,orange=o,pink=p,purple=u,red=e,white=w,yellow=y\n",
    "\n",
    "# stalk-shape: enlarging=e,tapering=t\n",
    "\n",
    "# stalk-root: bulbous=b,club=c,cup=u,equal=e,rhizomorphs=z,rooted=r,missing=?\n",
    "\n",
    "# stalk-surface-above-ring: fibrous=f,scaly=y,silky=k,smooth=s\n",
    "\n",
    "# stalk-surface-below-ring: fibrous=f,scaly=y,silky=k,smooth=s\n",
    "\n",
    "# stalk-color-above-ring: brown=n,buff=b,cinnamon=c,gray=g,orange=o,pink=p,red=e,white=w,yellow=y\n",
    "\n",
    "# stalk-color-below-ring: brown=n,buff=b,cinnamon=c,gray=g,orange=o,pink=p,red=e,white=w,yellow=y\n",
    "\n",
    "# veil-type: partial=p,universal=u\n",
    "\n",
    "# veil-color: brown=n,orange=o,white=w,yellow=y\n",
    "\n",
    "# ring-number: none=n,one=o,two=t\n",
    "\n",
    "# ring-type: cobwebby=c,evanescent=e,flaring=f,large=l,none=n,pendant=p,sheathing=s,zone=z\n",
    "\n",
    "# spore-print-color: black=k,brown=n,buff=b,chocolate=h,green=r,orange=o,purple=u,white=w,yellow=y\n",
    "\n",
    "# population: abundant=a,clustered=c,numerous=n,scattered=s,several=v,solitary=y\n",
    "\n",
    "# habitat: grasses=g,leaves=l,meadows=m,paths=p,urban=u,waste=w,woods=d"
   ]
  },
  {
   "cell_type": "code",
   "execution_count": 292,
   "id": "a860d6c7",
   "metadata": {},
   "outputs": [],
   "source": [
    "import numpy as np\n",
    "import pandas as pd\n",
    "import seaborn as sns\n",
    "import matplotlib.pyplot as plt\n",
    "import os\n",
    "\n",
    "from sklearn import metrics\n",
    "from sklearn.linear_model import LogisticRegression\n",
    "from sklearn.model_selection import train_test_split\n",
    "from sklearn.preprocessing import LabelEncoder\n",
    "from sklearn.pipeline import make_pipeline\n",
    "from sklearn.preprocessing import StandardScaler\n",
    "from sklearn.model_selection import GridSearchCV\n",
    "from sklearn import svm\n",
    "from sklearn import linear_model\n",
    "from sklearn.preprocessing import PolynomialFeatures\n",
    "from sklearn.linear_model import Ridge\n",
    "from sklearn.linear_model import Lasso\n",
    "from sklearn.pipeline import make_pipeline\n",
    "from sklearn import model_selection\n",
    "\n",
    "import tensorflow as tf\n",
    "from tensorflow import keras as keras\n",
    "from keras.regularizers import l2"
   ]
  },
  {
   "cell_type": "code",
   "execution_count": 246,
   "id": "da3ecf9a",
   "metadata": {},
   "outputs": [],
   "source": [
    "data = pd.read_csv('./mushrooms.csv')"
   ]
  },
  {
   "cell_type": "code",
   "execution_count": 247,
   "id": "d555e2d0",
   "metadata": {},
   "outputs": [
    {
     "data": {
      "text/html": [
       "<div>\n",
       "<style scoped>\n",
       "    .dataframe tbody tr th:only-of-type {\n",
       "        vertical-align: middle;\n",
       "    }\n",
       "\n",
       "    .dataframe tbody tr th {\n",
       "        vertical-align: top;\n",
       "    }\n",
       "\n",
       "    .dataframe thead th {\n",
       "        text-align: right;\n",
       "    }\n",
       "</style>\n",
       "<table border=\"1\" class=\"dataframe\">\n",
       "  <thead>\n",
       "    <tr style=\"text-align: right;\">\n",
       "      <th></th>\n",
       "      <th>0</th>\n",
       "      <th>1</th>\n",
       "      <th>2</th>\n",
       "      <th>3</th>\n",
       "      <th>4</th>\n",
       "    </tr>\n",
       "  </thead>\n",
       "  <tbody>\n",
       "    <tr>\n",
       "      <th>class</th>\n",
       "      <td>p</td>\n",
       "      <td>e</td>\n",
       "      <td>e</td>\n",
       "      <td>p</td>\n",
       "      <td>e</td>\n",
       "    </tr>\n",
       "    <tr>\n",
       "      <th>cap-shape</th>\n",
       "      <td>x</td>\n",
       "      <td>x</td>\n",
       "      <td>b</td>\n",
       "      <td>x</td>\n",
       "      <td>x</td>\n",
       "    </tr>\n",
       "    <tr>\n",
       "      <th>cap-surface</th>\n",
       "      <td>s</td>\n",
       "      <td>s</td>\n",
       "      <td>s</td>\n",
       "      <td>y</td>\n",
       "      <td>s</td>\n",
       "    </tr>\n",
       "    <tr>\n",
       "      <th>cap-color</th>\n",
       "      <td>n</td>\n",
       "      <td>y</td>\n",
       "      <td>w</td>\n",
       "      <td>w</td>\n",
       "      <td>g</td>\n",
       "    </tr>\n",
       "    <tr>\n",
       "      <th>bruises</th>\n",
       "      <td>t</td>\n",
       "      <td>t</td>\n",
       "      <td>t</td>\n",
       "      <td>t</td>\n",
       "      <td>f</td>\n",
       "    </tr>\n",
       "    <tr>\n",
       "      <th>odor</th>\n",
       "      <td>p</td>\n",
       "      <td>a</td>\n",
       "      <td>l</td>\n",
       "      <td>p</td>\n",
       "      <td>n</td>\n",
       "    </tr>\n",
       "    <tr>\n",
       "      <th>gill-attachment</th>\n",
       "      <td>f</td>\n",
       "      <td>f</td>\n",
       "      <td>f</td>\n",
       "      <td>f</td>\n",
       "      <td>f</td>\n",
       "    </tr>\n",
       "    <tr>\n",
       "      <th>gill-spacing</th>\n",
       "      <td>c</td>\n",
       "      <td>c</td>\n",
       "      <td>c</td>\n",
       "      <td>c</td>\n",
       "      <td>w</td>\n",
       "    </tr>\n",
       "    <tr>\n",
       "      <th>gill-size</th>\n",
       "      <td>n</td>\n",
       "      <td>b</td>\n",
       "      <td>b</td>\n",
       "      <td>n</td>\n",
       "      <td>b</td>\n",
       "    </tr>\n",
       "    <tr>\n",
       "      <th>gill-color</th>\n",
       "      <td>k</td>\n",
       "      <td>k</td>\n",
       "      <td>n</td>\n",
       "      <td>n</td>\n",
       "      <td>k</td>\n",
       "    </tr>\n",
       "    <tr>\n",
       "      <th>stalk-shape</th>\n",
       "      <td>e</td>\n",
       "      <td>e</td>\n",
       "      <td>e</td>\n",
       "      <td>e</td>\n",
       "      <td>t</td>\n",
       "    </tr>\n",
       "    <tr>\n",
       "      <th>stalk-root</th>\n",
       "      <td>e</td>\n",
       "      <td>c</td>\n",
       "      <td>c</td>\n",
       "      <td>e</td>\n",
       "      <td>e</td>\n",
       "    </tr>\n",
       "    <tr>\n",
       "      <th>stalk-surface-above-ring</th>\n",
       "      <td>s</td>\n",
       "      <td>s</td>\n",
       "      <td>s</td>\n",
       "      <td>s</td>\n",
       "      <td>s</td>\n",
       "    </tr>\n",
       "    <tr>\n",
       "      <th>stalk-surface-below-ring</th>\n",
       "      <td>s</td>\n",
       "      <td>s</td>\n",
       "      <td>s</td>\n",
       "      <td>s</td>\n",
       "      <td>s</td>\n",
       "    </tr>\n",
       "    <tr>\n",
       "      <th>stalk-color-above-ring</th>\n",
       "      <td>w</td>\n",
       "      <td>w</td>\n",
       "      <td>w</td>\n",
       "      <td>w</td>\n",
       "      <td>w</td>\n",
       "    </tr>\n",
       "    <tr>\n",
       "      <th>stalk-color-below-ring</th>\n",
       "      <td>w</td>\n",
       "      <td>w</td>\n",
       "      <td>w</td>\n",
       "      <td>w</td>\n",
       "      <td>w</td>\n",
       "    </tr>\n",
       "    <tr>\n",
       "      <th>veil-type</th>\n",
       "      <td>p</td>\n",
       "      <td>p</td>\n",
       "      <td>p</td>\n",
       "      <td>p</td>\n",
       "      <td>p</td>\n",
       "    </tr>\n",
       "    <tr>\n",
       "      <th>veil-color</th>\n",
       "      <td>w</td>\n",
       "      <td>w</td>\n",
       "      <td>w</td>\n",
       "      <td>w</td>\n",
       "      <td>w</td>\n",
       "    </tr>\n",
       "    <tr>\n",
       "      <th>ring-number</th>\n",
       "      <td>o</td>\n",
       "      <td>o</td>\n",
       "      <td>o</td>\n",
       "      <td>o</td>\n",
       "      <td>o</td>\n",
       "    </tr>\n",
       "    <tr>\n",
       "      <th>ring-type</th>\n",
       "      <td>p</td>\n",
       "      <td>p</td>\n",
       "      <td>p</td>\n",
       "      <td>p</td>\n",
       "      <td>e</td>\n",
       "    </tr>\n",
       "    <tr>\n",
       "      <th>spore-print-color</th>\n",
       "      <td>k</td>\n",
       "      <td>n</td>\n",
       "      <td>n</td>\n",
       "      <td>k</td>\n",
       "      <td>n</td>\n",
       "    </tr>\n",
       "    <tr>\n",
       "      <th>population</th>\n",
       "      <td>s</td>\n",
       "      <td>n</td>\n",
       "      <td>n</td>\n",
       "      <td>s</td>\n",
       "      <td>a</td>\n",
       "    </tr>\n",
       "    <tr>\n",
       "      <th>habitat</th>\n",
       "      <td>u</td>\n",
       "      <td>g</td>\n",
       "      <td>m</td>\n",
       "      <td>u</td>\n",
       "      <td>g</td>\n",
       "    </tr>\n",
       "  </tbody>\n",
       "</table>\n",
       "</div>"
      ],
      "text/plain": [
       "                          0  1  2  3  4\n",
       "class                     p  e  e  p  e\n",
       "cap-shape                 x  x  b  x  x\n",
       "cap-surface               s  s  s  y  s\n",
       "cap-color                 n  y  w  w  g\n",
       "bruises                   t  t  t  t  f\n",
       "odor                      p  a  l  p  n\n",
       "gill-attachment           f  f  f  f  f\n",
       "gill-spacing              c  c  c  c  w\n",
       "gill-size                 n  b  b  n  b\n",
       "gill-color                k  k  n  n  k\n",
       "stalk-shape               e  e  e  e  t\n",
       "stalk-root                e  c  c  e  e\n",
       "stalk-surface-above-ring  s  s  s  s  s\n",
       "stalk-surface-below-ring  s  s  s  s  s\n",
       "stalk-color-above-ring    w  w  w  w  w\n",
       "stalk-color-below-ring    w  w  w  w  w\n",
       "veil-type                 p  p  p  p  p\n",
       "veil-color                w  w  w  w  w\n",
       "ring-number               o  o  o  o  o\n",
       "ring-type                 p  p  p  p  e\n",
       "spore-print-color         k  n  n  k  n\n",
       "population                s  n  n  s  a\n",
       "habitat                   u  g  m  u  g"
      ]
     },
     "execution_count": 247,
     "metadata": {},
     "output_type": "execute_result"
    }
   ],
   "source": [
    "data.head().T"
   ]
  },
  {
   "cell_type": "code",
   "execution_count": 279,
   "id": "6dc355c5",
   "metadata": {
    "scrolled": true
   },
   "outputs": [
    {
     "data": {
      "text/plain": [
       "(8124, 22)"
      ]
     },
     "execution_count": 279,
     "metadata": {},
     "output_type": "execute_result"
    }
   ],
   "source": [
    "data.shape"
   ]
  },
  {
   "cell_type": "code",
   "execution_count": 280,
   "id": "4ff51597",
   "metadata": {},
   "outputs": [
    {
     "data": {
      "text/plain": [
       "class                       0\n",
       "cap-shape                   0\n",
       "cap-surface                 0\n",
       "cap-color                   0\n",
       "bruises                     0\n",
       "odor                        0\n",
       "gill-attachment             0\n",
       "gill-spacing                0\n",
       "gill-size                   0\n",
       "gill-color                  0\n",
       "stalk-shape                 0\n",
       "stalk-root                  0\n",
       "stalk-surface-above-ring    0\n",
       "stalk-surface-below-ring    0\n",
       "stalk-color-above-ring      0\n",
       "stalk-color-below-ring      0\n",
       "veil-color                  0\n",
       "ring-number                 0\n",
       "ring-type                   0\n",
       "spore-print-color           0\n",
       "population                  0\n",
       "habitat                     0\n",
       "dtype: int64"
      ]
     },
     "execution_count": 280,
     "metadata": {},
     "output_type": "execute_result"
    }
   ],
   "source": [
    "# missing data\n",
    "data.isnull().sum() "
   ]
  },
  {
   "cell_type": "code",
   "execution_count": 250,
   "id": "8f4f4b1f",
   "metadata": {},
   "outputs": [
    {
     "name": "stderr",
     "output_type": "stream",
     "text": [
      "C:\\Users\\DawOp\\AppData\\Local\\Programs\\Python\\Python39\\lib\\site-packages\\seaborn\\_decorators.py:36: FutureWarning: Pass the following variable as a keyword arg: x. From version 0.12, the only valid positional argument will be `data`, and passing other arguments without an explicit keyword will result in an error or misinterpretation.\n",
      "  warnings.warn(\n"
     ]
    },
    {
     "data": {
      "text/plain": [
       "<AxesSubplot:xlabel='class', ylabel='count'>"
      ]
     },
     "execution_count": 250,
     "metadata": {},
     "output_type": "execute_result"
    },
    {
     "data": {
      "image/png": "[encoded data removed]",
      "text/plain": [
       "<Figure size 432x288 with 1 Axes>"
      ]
     },
     "metadata": {
      "needs_background": "light"
     },
     "output_type": "display_data"
    }
   ],
   "source": [
    "# trujace vs jadalne\n",
    "sns.countplot(data['class'])\n"
   ]
  },
  {
   "cell_type": "code",
   "execution_count": 234,
   "id": "4a3a18c9",
   "metadata": {},
   "outputs": [],
   "source": [
    "# sns.pairplot(data['veil-type'])\n",
    "# plt.show()"
   ]
  },
  {
   "cell_type": "code",
   "execution_count": 109,
   "id": "ac8fc4bb",
   "metadata": {
    "scrolled": true
   },
   "outputs": [
    {
     "data": {
      "image/png": "[encoded data removed]",
      "text/plain": [
       "<Figure size 720x360 with 2 Axes>"
      ]
     },
     "metadata": {
      "needs_background": "light"
     },
     "output_type": "display_data"
    }
   ],
   "source": [
    "# cap-color: brown=n,buff=b,cinnamon=c,gray=g,green=r,pink=p,purple=u,red=e,white=w,yellow=y\n",
    "# cap-shape: bell=b,conical=c,convex=x,flat=f, knobbed=k,sunken=s\n",
    "# cap-surface: fibrous=f,grooves=g,scaly=y,smooth=s\n",
    "\n",
    "g = sns.catplot(x=\"cap-color\",col=\"class\",data=data, kind=\"count\");"
   ]
  },
  {
   "cell_type": "code",
   "execution_count": 251,
   "id": "f7066db2",
   "metadata": {},
   "outputs": [],
   "source": [
    "encoder = LabelEncoder()\n",
    "\n",
    "for column in range(len(data.columns)):\n",
    "    data[data.columns[column]] = encoder.fit_transform(data[data.columns[column]])\n",
    "\n",
    "\n",
    "X = data.drop(['class'] , axis = 1)\n",
    "y = data['class']"
   ]
  },
  {
   "cell_type": "code",
   "execution_count": 252,
   "id": "12c69076",
   "metadata": {},
   "outputs": [
    {
     "data": {
      "text/plain": [
       "<AxesSubplot:>"
      ]
     },
     "execution_count": 252,
     "metadata": {},
     "output_type": "execute_result"
    },
    {
     "data": {
      "image/png": "[encoded data removed]",
      "text/plain": [
       "<Figure size 1440x1008 with 2 Axes>"
      ]
     },
     "metadata": {
      "needs_background": "light"
     },
     "output_type": "display_data"
    }
   ],
   "source": [
    "plt.subplots(figsize=(20, 14))\n",
    "sns.heatmap(data.corr())"
   ]
  },
  {
   "cell_type": "code",
   "execution_count": 253,
   "id": "8d9c79d9",
   "metadata": {},
   "outputs": [],
   "source": [
    "data = data.drop(columns=[\"veil-type\"])"
   ]
  },
  {
   "cell_type": "code",
   "execution_count": 277,
   "id": "d1600654",
   "metadata": {},
   "outputs": [
    {
     "data": {
      "text/html": [
       "<div>\n",
       "<style scoped>\n",
       "    .dataframe tbody tr th:only-of-type {\n",
       "        vertical-align: middle;\n",
       "    }\n",
       "\n",
       "    .dataframe tbody tr th {\n",
       "        vertical-align: top;\n",
       "    }\n",
       "\n",
       "    .dataframe thead th {\n",
       "        text-align: right;\n",
       "    }\n",
       "</style>\n",
       "<table border=\"1\" class=\"dataframe\">\n",
       "  <thead>\n",
       "    <tr style=\"text-align: right;\">\n",
       "      <th></th>\n",
       "      <th>0</th>\n",
       "      <th>1</th>\n",
       "      <th>2</th>\n",
       "      <th>3</th>\n",
       "      <th>4</th>\n",
       "    </tr>\n",
       "  </thead>\n",
       "  <tbody>\n",
       "    <tr>\n",
       "      <th>class</th>\n",
       "      <td>1</td>\n",
       "      <td>0</td>\n",
       "      <td>0</td>\n",
       "      <td>1</td>\n",
       "      <td>0</td>\n",
       "    </tr>\n",
       "    <tr>\n",
       "      <th>cap-shape</th>\n",
       "      <td>5</td>\n",
       "      <td>5</td>\n",
       "      <td>0</td>\n",
       "      <td>5</td>\n",
       "      <td>5</td>\n",
       "    </tr>\n",
       "    <tr>\n",
       "      <th>cap-surface</th>\n",
       "      <td>2</td>\n",
       "      <td>2</td>\n",
       "      <td>2</td>\n",
       "      <td>3</td>\n",
       "      <td>2</td>\n",
       "    </tr>\n",
       "    <tr>\n",
       "      <th>cap-color</th>\n",
       "      <td>4</td>\n",
       "      <td>9</td>\n",
       "      <td>8</td>\n",
       "      <td>8</td>\n",
       "      <td>3</td>\n",
       "    </tr>\n",
       "    <tr>\n",
       "      <th>bruises</th>\n",
       "      <td>1</td>\n",
       "      <td>1</td>\n",
       "      <td>1</td>\n",
       "      <td>1</td>\n",
       "      <td>0</td>\n",
       "    </tr>\n",
       "    <tr>\n",
       "      <th>odor</th>\n",
       "      <td>6</td>\n",
       "      <td>0</td>\n",
       "      <td>3</td>\n",
       "      <td>6</td>\n",
       "      <td>5</td>\n",
       "    </tr>\n",
       "    <tr>\n",
       "      <th>gill-attachment</th>\n",
       "      <td>1</td>\n",
       "      <td>1</td>\n",
       "      <td>1</td>\n",
       "      <td>1</td>\n",
       "      <td>1</td>\n",
       "    </tr>\n",
       "    <tr>\n",
       "      <th>gill-spacing</th>\n",
       "      <td>0</td>\n",
       "      <td>0</td>\n",
       "      <td>0</td>\n",
       "      <td>0</td>\n",
       "      <td>1</td>\n",
       "    </tr>\n",
       "    <tr>\n",
       "      <th>gill-size</th>\n",
       "      <td>1</td>\n",
       "      <td>0</td>\n",
       "      <td>0</td>\n",
       "      <td>1</td>\n",
       "      <td>0</td>\n",
       "    </tr>\n",
       "    <tr>\n",
       "      <th>gill-color</th>\n",
       "      <td>4</td>\n",
       "      <td>4</td>\n",
       "      <td>5</td>\n",
       "      <td>5</td>\n",
       "      <td>4</td>\n",
       "    </tr>\n",
       "    <tr>\n",
       "      <th>stalk-shape</th>\n",
       "      <td>0</td>\n",
       "      <td>0</td>\n",
       "      <td>0</td>\n",
       "      <td>0</td>\n",
       "      <td>1</td>\n",
       "    </tr>\n",
       "    <tr>\n",
       "      <th>stalk-root</th>\n",
       "      <td>3</td>\n",
       "      <td>2</td>\n",
       "      <td>2</td>\n",
       "      <td>3</td>\n",
       "      <td>3</td>\n",
       "    </tr>\n",
       "    <tr>\n",
       "      <th>stalk-surface-above-ring</th>\n",
       "      <td>2</td>\n",
       "      <td>2</td>\n",
       "      <td>2</td>\n",
       "      <td>2</td>\n",
       "      <td>2</td>\n",
       "    </tr>\n",
       "    <tr>\n",
       "      <th>stalk-surface-below-ring</th>\n",
       "      <td>2</td>\n",
       "      <td>2</td>\n",
       "      <td>2</td>\n",
       "      <td>2</td>\n",
       "      <td>2</td>\n",
       "    </tr>\n",
       "    <tr>\n",
       "      <th>stalk-color-above-ring</th>\n",
       "      <td>7</td>\n",
       "      <td>7</td>\n",
       "      <td>7</td>\n",
       "      <td>7</td>\n",
       "      <td>7</td>\n",
       "    </tr>\n",
       "    <tr>\n",
       "      <th>stalk-color-below-ring</th>\n",
       "      <td>7</td>\n",
       "      <td>7</td>\n",
       "      <td>7</td>\n",
       "      <td>7</td>\n",
       "      <td>7</td>\n",
       "    </tr>\n",
       "    <tr>\n",
       "      <th>veil-color</th>\n",
       "      <td>2</td>\n",
       "      <td>2</td>\n",
       "      <td>2</td>\n",
       "      <td>2</td>\n",
       "      <td>2</td>\n",
       "    </tr>\n",
       "    <tr>\n",
       "      <th>ring-number</th>\n",
       "      <td>1</td>\n",
       "      <td>1</td>\n",
       "      <td>1</td>\n",
       "      <td>1</td>\n",
       "      <td>1</td>\n",
       "    </tr>\n",
       "    <tr>\n",
       "      <th>ring-type</th>\n",
       "      <td>4</td>\n",
       "      <td>4</td>\n",
       "      <td>4</td>\n",
       "      <td>4</td>\n",
       "      <td>0</td>\n",
       "    </tr>\n",
       "    <tr>\n",
       "      <th>spore-print-color</th>\n",
       "      <td>2</td>\n",
       "      <td>3</td>\n",
       "      <td>3</td>\n",
       "      <td>2</td>\n",
       "      <td>3</td>\n",
       "    </tr>\n",
       "    <tr>\n",
       "      <th>population</th>\n",
       "      <td>3</td>\n",
       "      <td>2</td>\n",
       "      <td>2</td>\n",
       "      <td>3</td>\n",
       "      <td>0</td>\n",
       "    </tr>\n",
       "    <tr>\n",
       "      <th>habitat</th>\n",
       "      <td>5</td>\n",
       "      <td>1</td>\n",
       "      <td>3</td>\n",
       "      <td>5</td>\n",
       "      <td>1</td>\n",
       "    </tr>\n",
       "  </tbody>\n",
       "</table>\n",
       "</div>"
      ],
      "text/plain": [
       "                          0  1  2  3  4\n",
       "class                     1  0  0  1  0\n",
       "cap-shape                 5  5  0  5  5\n",
       "cap-surface               2  2  2  3  2\n",
       "cap-color                 4  9  8  8  3\n",
       "bruises                   1  1  1  1  0\n",
       "odor                      6  0  3  6  5\n",
       "gill-attachment           1  1  1  1  1\n",
       "gill-spacing              0  0  0  0  1\n",
       "gill-size                 1  0  0  1  0\n",
       "gill-color                4  4  5  5  4\n",
       "stalk-shape               0  0  0  0  1\n",
       "stalk-root                3  2  2  3  3\n",
       "stalk-surface-above-ring  2  2  2  2  2\n",
       "stalk-surface-below-ring  2  2  2  2  2\n",
       "stalk-color-above-ring    7  7  7  7  7\n",
       "stalk-color-below-ring    7  7  7  7  7\n",
       "veil-color                2  2  2  2  2\n",
       "ring-number               1  1  1  1  1\n",
       "ring-type                 4  4  4  4  0\n",
       "spore-print-color         2  3  3  2  3\n",
       "population                3  2  2  3  0\n",
       "habitat                   5  1  3  5  1"
      ]
     },
     "execution_count": 277,
     "metadata": {},
     "output_type": "execute_result"
    }
   ],
   "source": [
    "data.head().T"
   ]
  },
  {
   "cell_type": "code",
   "execution_count": 281,
   "id": "0967bd99",
   "metadata": {},
   "outputs": [],
   "source": [
    "X_train,X_test,y_train,y_test = train_test_split(X,y,random_state = 3,test_size = 0.3)"
   ]
  },
  {
   "cell_type": "code",
   "execution_count": 282,
   "id": "958b8a37",
   "metadata": {},
   "outputs": [
    {
     "data": {
      "text/plain": [
       "(5686, 22)"
      ]
     },
     "execution_count": 282,
     "metadata": {},
     "output_type": "execute_result"
    }
   ],
   "source": [
    "X_train.shape"
   ]
  },
  {
   "cell_type": "code",
   "execution_count": null,
   "id": "43bf4b5d",
   "metadata": {},
   "outputs": [],
   "source": [
    "X_test.shape"
   ]
  },
  {
   "cell_type": "code",
   "execution_count": 296,
   "id": "026e3ddb",
   "metadata": {},
   "outputs": [
    {
     "data": {
      "text/plain": [
       "0.7368616020274965"
      ]
     },
     "execution_count": 296,
     "metadata": {},
     "output_type": "execute_result"
    }
   ],
   "source": [
    "# linear regression\n",
    "reg = linear_model.LinearRegression()\n",
    "reg.fit(X_train, y_train)\n",
    "reg.score(X_test,y_test)"
   ]
  },
  {
   "cell_type": "code",
   "execution_count": 297,
   "id": "dc822379",
   "metadata": {},
   "outputs": [
    {
     "data": {
      "text/plain": [
       "0.9889253486464314"
      ]
     },
     "execution_count": 297,
     "metadata": {},
     "output_type": "execute_result"
    }
   ],
   "source": [
    "# svc\n",
    "svc = svm.SVC()\n",
    "svc.fit(X_train,y_train)\n",
    "svc.score(X_test,y_test)"
   ]
  },
  {
   "cell_type": "code",
   "execution_count": 224,
   "id": "973e18ad",
   "metadata": {},
   "outputs": [
    {
     "name": "stdout",
     "output_type": "stream",
     "text": [
      "Epoch 1/80\n",
      "178/178 [==============================] - 1s 1ms/step - loss: 0.6056 - accuracy: 0.6731 - val_loss: 0.4357 - val_accuracy: 0.8470\n",
      "Epoch 2/80\n",
      "178/178 [==============================] - 0s 949us/step - loss: 0.3724 - accuracy: 0.8681 - val_loss: 0.3060 - val_accuracy: 0.8905\n",
      "Epoch 3/80\n",
      "178/178 [==============================] - 0s 938us/step - loss: 0.2887 - accuracy: 0.9101 - val_loss: 0.2553 - val_accuracy: 0.9122\n",
      "Epoch 4/80\n",
      "178/178 [==============================] - 0s 1000us/step - loss: 0.2479 - accuracy: 0.9221 - val_loss: 0.2265 - val_accuracy: 0.9221\n",
      "Epoch 5/80\n",
      "178/178 [==============================] - 0s 943us/step - loss: 0.2290 - accuracy: 0.9284 - val_loss: 0.1948 - val_accuracy: 0.9356\n",
      "Epoch 6/80\n",
      "178/178 [==============================] - 0s 943us/step - loss: 0.2038 - accuracy: 0.9356 - val_loss: 0.1674 - val_accuracy: 0.9475\n",
      "Epoch 7/80\n",
      "178/178 [==============================] - 0s 944us/step - loss: 0.1800 - accuracy: 0.9467 - val_loss: 0.1471 - val_accuracy: 0.9578\n",
      "Epoch 8/80\n",
      "178/178 [==============================] - 0s 949us/step - loss: 0.1573 - accuracy: 0.9553 - val_loss: 0.1309 - val_accuracy: 0.9672\n",
      "Epoch 9/80\n",
      "178/178 [==============================] - 0s 949us/step - loss: 0.1473 - accuracy: 0.9618 - val_loss: 0.1275 - val_accuracy: 0.9680\n",
      "Epoch 10/80\n",
      "178/178 [==============================] - 0s 943us/step - loss: 0.1433 - accuracy: 0.9629 - val_loss: 0.1122 - val_accuracy: 0.9742\n",
      "Epoch 11/80\n",
      "178/178 [==============================] - 0s 949us/step - loss: 0.1315 - accuracy: 0.9680 - val_loss: 0.1050 - val_accuracy: 0.9754\n",
      "Epoch 12/80\n",
      "178/178 [==============================] - 0s 949us/step - loss: 0.1313 - accuracy: 0.9676 - val_loss: 0.1051 - val_accuracy: 0.9754\n",
      "Epoch 13/80\n",
      "178/178 [==============================] - 0s 944us/step - loss: 0.1198 - accuracy: 0.9715 - val_loss: 0.0917 - val_accuracy: 0.9791\n",
      "Epoch 14/80\n",
      "178/178 [==============================] - 0s 943us/step - loss: 0.1187 - accuracy: 0.9726 - val_loss: 0.0894 - val_accuracy: 0.9791\n",
      "Epoch 15/80\n",
      "178/178 [==============================] - 0s 955us/step - loss: 0.1118 - accuracy: 0.9722 - val_loss: 0.0822 - val_accuracy: 0.9820\n",
      "Epoch 16/80\n",
      "178/178 [==============================] - 0s 949us/step - loss: 0.1100 - accuracy: 0.9761 - val_loss: 0.0825 - val_accuracy: 0.9832\n",
      "Epoch 17/80\n",
      "178/178 [==============================] - 0s 949us/step - loss: 0.1052 - accuracy: 0.9766 - val_loss: 0.0799 - val_accuracy: 0.9815\n",
      "Epoch 18/80\n",
      "178/178 [==============================] - 0s 955us/step - loss: 0.1022 - accuracy: 0.9757 - val_loss: 0.0758 - val_accuracy: 0.9832\n",
      "Epoch 19/80\n",
      "178/178 [==============================] - 0s 944us/step - loss: 0.0961 - accuracy: 0.9773 - val_loss: 0.0725 - val_accuracy: 0.9848\n",
      "Epoch 20/80\n",
      "178/178 [==============================] - 0s 938us/step - loss: 0.0941 - accuracy: 0.9789 - val_loss: 0.0678 - val_accuracy: 0.9865\n",
      "Epoch 21/80\n",
      "178/178 [==============================] - 0s 943us/step - loss: 0.0942 - accuracy: 0.9810 - val_loss: 0.0673 - val_accuracy: 0.9848\n",
      "Epoch 22/80\n",
      "178/178 [==============================] - 0s 949us/step - loss: 0.0888 - accuracy: 0.9812 - val_loss: 0.0685 - val_accuracy: 0.9848\n",
      "Epoch 23/80\n",
      "178/178 [==============================] - 0s 960us/step - loss: 0.0908 - accuracy: 0.9810 - val_loss: 0.0659 - val_accuracy: 0.9861\n",
      "Epoch 24/80\n",
      "178/178 [==============================] - 0s 949us/step - loss: 0.0876 - accuracy: 0.9821 - val_loss: 0.0696 - val_accuracy: 0.9840\n",
      "Epoch 25/80\n",
      "178/178 [==============================] - 0s 949us/step - loss: 0.0873 - accuracy: 0.9807 - val_loss: 0.0636 - val_accuracy: 0.9861\n",
      "Epoch 26/80\n",
      "178/178 [==============================] - 0s 938us/step - loss: 0.0837 - accuracy: 0.9821 - val_loss: 0.0631 - val_accuracy: 0.9885\n",
      "Epoch 27/80\n",
      "178/178 [==============================] - 0s 949us/step - loss: 0.0844 - accuracy: 0.9833 - val_loss: 0.0592 - val_accuracy: 0.9897\n",
      "Epoch 28/80\n",
      "178/178 [==============================] - 0s 966us/step - loss: 0.0849 - accuracy: 0.9828 - val_loss: 0.0623 - val_accuracy: 0.9877\n",
      "Epoch 29/80\n",
      "178/178 [==============================] - 0s 944us/step - loss: 0.0842 - accuracy: 0.9833 - val_loss: 0.0626 - val_accuracy: 0.9877\n",
      "Epoch 30/80\n",
      "178/178 [==============================] - 0s 949us/step - loss: 0.0797 - accuracy: 0.9845 - val_loss: 0.0594 - val_accuracy: 0.9893\n",
      "Epoch 31/80\n",
      "178/178 [==============================] - 0s 938us/step - loss: 0.0828 - accuracy: 0.9817 - val_loss: 0.0618 - val_accuracy: 0.9889\n",
      "Epoch 32/80\n",
      "178/178 [==============================] - 0s 945us/step - loss: 0.0797 - accuracy: 0.9849 - val_loss: 0.0608 - val_accuracy: 0.9881\n",
      "Epoch 33/80\n",
      "178/178 [==============================] - 0s 955us/step - loss: 0.0787 - accuracy: 0.9845 - val_loss: 0.0695 - val_accuracy: 0.9844\n",
      "Epoch 34/80\n",
      "178/178 [==============================] - 0s 943us/step - loss: 0.0785 - accuracy: 0.9849 - val_loss: 0.0594 - val_accuracy: 0.9893\n",
      "Epoch 35/80\n",
      "178/178 [==============================] - 0s 944us/step - loss: 0.0809 - accuracy: 0.9842 - val_loss: 0.0577 - val_accuracy: 0.9902\n",
      "Epoch 36/80\n",
      "178/178 [==============================] - 0s 949us/step - loss: 0.0788 - accuracy: 0.9833 - val_loss: 0.0577 - val_accuracy: 0.9902\n",
      "Epoch 37/80\n",
      "178/178 [==============================] - 0s 950us/step - loss: 0.0762 - accuracy: 0.9861 - val_loss: 0.0588 - val_accuracy: 0.9897\n",
      "Epoch 38/80\n",
      "178/178 [==============================] - 0s 960us/step - loss: 0.0765 - accuracy: 0.9863 - val_loss: 0.0581 - val_accuracy: 0.9897\n",
      "Epoch 39/80\n",
      "178/178 [==============================] - 0s 966us/step - loss: 0.0779 - accuracy: 0.9865 - val_loss: 0.0584 - val_accuracy: 0.9897\n",
      "Epoch 40/80\n",
      "178/178 [==============================] - 0s 938us/step - loss: 0.0765 - accuracy: 0.9847 - val_loss: 0.0576 - val_accuracy: 0.9897\n",
      "Epoch 41/80\n",
      "178/178 [==============================] - 0s 955us/step - loss: 0.0746 - accuracy: 0.9859 - val_loss: 0.0570 - val_accuracy: 0.9902\n",
      "Epoch 42/80\n",
      "178/178 [==============================] - 0s 949us/step - loss: 0.0786 - accuracy: 0.9849 - val_loss: 0.0569 - val_accuracy: 0.9902\n",
      "Epoch 43/80\n",
      "178/178 [==============================] - 0s 955us/step - loss: 0.0799 - accuracy: 0.9842 - val_loss: 0.0577 - val_accuracy: 0.9897\n",
      "Epoch 44/80\n",
      "178/178 [==============================] - 0s 927us/step - loss: 0.0783 - accuracy: 0.9856 - val_loss: 0.0569 - val_accuracy: 0.9902\n",
      "Epoch 45/80\n",
      "178/178 [==============================] - 0s 938us/step - loss: 0.0750 - accuracy: 0.9865 - val_loss: 0.0568 - val_accuracy: 0.9902\n",
      "Epoch 46/80\n",
      "178/178 [==============================] - 0s 938us/step - loss: 0.0730 - accuracy: 0.9858 - val_loss: 0.0567 - val_accuracy: 0.9902\n",
      "Epoch 47/80\n",
      "178/178 [==============================] - 0s 949us/step - loss: 0.0738 - accuracy: 0.9873 - val_loss: 0.0566 - val_accuracy: 0.9902\n",
      "Epoch 48/80\n",
      "178/178 [==============================] - 0s 932us/step - loss: 0.0706 - accuracy: 0.9880 - val_loss: 0.0577 - val_accuracy: 0.9897\n",
      "Epoch 49/80\n",
      "178/178 [==============================] - 0s 955us/step - loss: 0.0731 - accuracy: 0.9851 - val_loss: 0.0571 - val_accuracy: 0.9897\n",
      "Epoch 50/80\n",
      "178/178 [==============================] - 0s 927us/step - loss: 0.0725 - accuracy: 0.9873 - val_loss: 0.0570 - val_accuracy: 0.9897\n",
      "Epoch 51/80\n",
      "178/178 [==============================] - 0s 955us/step - loss: 0.0740 - accuracy: 0.9863 - val_loss: 0.0608 - val_accuracy: 0.9877\n",
      "Epoch 52/80\n",
      "178/178 [==============================] - 0s 935us/step - loss: 0.0730 - accuracy: 0.9863 - val_loss: 0.0566 - val_accuracy: 0.9902\n",
      "Epoch 53/80\n",
      "178/178 [==============================] - 0s 932us/step - loss: 0.0733 - accuracy: 0.9872 - val_loss: 0.0567 - val_accuracy: 0.9902\n",
      "Epoch 54/80\n",
      "178/178 [==============================] - 0s 944us/step - loss: 0.0760 - accuracy: 0.9866 - val_loss: 0.0570 - val_accuracy: 0.9897\n",
      "Epoch 55/80\n",
      "178/178 [==============================] - 0s 938us/step - loss: 0.0744 - accuracy: 0.9863 - val_loss: 0.0568 - val_accuracy: 0.9902\n",
      "Epoch 56/80\n",
      "178/178 [==============================] - 0s 932us/step - loss: 0.0736 - accuracy: 0.9882 - val_loss: 0.0580 - val_accuracy: 0.9889\n",
      "Epoch 57/80\n"
     ]
    },
    {
     "name": "stdout",
     "output_type": "stream",
     "text": [
      "178/178 [==============================] - 0s 972us/step - loss: 0.0716 - accuracy: 0.9877 - val_loss: 0.0562 - val_accuracy: 0.9902\n",
      "Epoch 58/80\n",
      "178/178 [==============================] - 0s 949us/step - loss: 0.0681 - accuracy: 0.9887 - val_loss: 0.0562 - val_accuracy: 0.9902\n",
      "Epoch 59/80\n",
      "178/178 [==============================] - 0s 943us/step - loss: 0.0717 - accuracy: 0.9875 - val_loss: 0.0565 - val_accuracy: 0.9902\n",
      "Epoch 60/80\n",
      "178/178 [==============================] - 0s 944us/step - loss: 0.0696 - accuracy: 0.9870 - val_loss: 0.0563 - val_accuracy: 0.9902\n",
      "Epoch 61/80\n",
      "178/178 [==============================] - 0s 938us/step - loss: 0.0695 - accuracy: 0.9882 - val_loss: 0.0562 - val_accuracy: 0.9902\n",
      "Epoch 62/80\n",
      "178/178 [==============================] - 0s 955us/step - loss: 0.0709 - accuracy: 0.9870 - val_loss: 0.0570 - val_accuracy: 0.9902\n",
      "Epoch 63/80\n",
      "178/178 [==============================] - 0s 960us/step - loss: 0.0719 - accuracy: 0.9877 - val_loss: 0.0563 - val_accuracy: 0.9902\n",
      "Epoch 64/80\n",
      "178/178 [==============================] - 0s 949us/step - loss: 0.0714 - accuracy: 0.9870 - val_loss: 0.0622 - val_accuracy: 0.9873\n",
      "Epoch 65/80\n",
      "178/178 [==============================] - 0s 938us/step - loss: 0.0741 - accuracy: 0.9875 - val_loss: 0.0561 - val_accuracy: 0.9902\n",
      "Epoch 66/80\n",
      "178/178 [==============================] - 0s 943us/step - loss: 0.0714 - accuracy: 0.9868 - val_loss: 0.0580 - val_accuracy: 0.9893\n",
      "Epoch 67/80\n",
      "178/178 [==============================] - 0s 960us/step - loss: 0.0679 - accuracy: 0.9879 - val_loss: 0.0563 - val_accuracy: 0.9902\n",
      "Epoch 68/80\n",
      "178/178 [==============================] - 0s 960us/step - loss: 0.0709 - accuracy: 0.9873 - val_loss: 0.0561 - val_accuracy: 0.9902\n",
      "Epoch 69/80\n",
      "178/178 [==============================] - 0s 972us/step - loss: 0.0699 - accuracy: 0.9875 - val_loss: 0.0561 - val_accuracy: 0.9902\n",
      "Epoch 70/80\n",
      "178/178 [==============================] - 0s 966us/step - loss: 0.0683 - accuracy: 0.9882 - val_loss: 0.0568 - val_accuracy: 0.9902\n",
      "Epoch 71/80\n",
      "178/178 [==============================] - 0s 949us/step - loss: 0.0705 - accuracy: 0.9873 - val_loss: 0.0561 - val_accuracy: 0.9902\n",
      "Epoch 72/80\n",
      "178/178 [==============================] - 0s 944us/step - loss: 0.0716 - accuracy: 0.9886 - val_loss: 0.0560 - val_accuracy: 0.9902\n",
      "Epoch 73/80\n",
      "178/178 [==============================] - 0s 949us/step - loss: 0.0697 - accuracy: 0.9879 - val_loss: 0.0562 - val_accuracy: 0.9902\n",
      "Epoch 74/80\n",
      "178/178 [==============================] - 0s 949us/step - loss: 0.0706 - accuracy: 0.9882 - val_loss: 0.0565 - val_accuracy: 0.9902\n",
      "Epoch 75/80\n",
      "178/178 [==============================] - 0s 955us/step - loss: 0.0722 - accuracy: 0.9875 - val_loss: 0.0559 - val_accuracy: 0.9902\n",
      "Epoch 76/80\n",
      "178/178 [==============================] - 0s 938us/step - loss: 0.0707 - accuracy: 0.9879 - val_loss: 0.0559 - val_accuracy: 0.9902\n",
      "Epoch 77/80\n",
      "178/178 [==============================] - 0s 960us/step - loss: 0.0672 - accuracy: 0.9882 - val_loss: 0.0561 - val_accuracy: 0.9902\n",
      "Epoch 78/80\n",
      "178/178 [==============================] - 0s 960us/step - loss: 0.0646 - accuracy: 0.9886 - val_loss: 0.0560 - val_accuracy: 0.9902\n",
      "Epoch 79/80\n",
      "178/178 [==============================] - 0s 944us/step - loss: 0.0683 - accuracy: 0.9879 - val_loss: 0.0562 - val_accuracy: 0.9902\n",
      "Epoch 80/80\n",
      "178/178 [==============================] - 0s 938us/step - loss: 0.0710 - accuracy: 0.9879 - val_loss: 0.0562 - val_accuracy: 0.9902\n"
     ]
    },
    {
     "data": {
      "text/plain": [
       "<tensorflow.python.keras.callbacks.History at 0x2174c8308b0>"
      ]
     },
     "execution_count": 224,
     "metadata": {},
     "output_type": "execute_result"
    }
   ],
   "source": [
    "from tensorflow.keras.models import Sequential\n",
    "from tensorflow.keras.layers import Dense\n",
    "from tensorflow.keras.callbacks import History\n",
    "from tensorflow.keras.layers import Dense, Activation,Dropout,Flatten\n",
    "from tensorflow.keras.constraints import max_norm\n",
    "from sklearn.model_selection import cross_val_score\n",
    "from sklearn.preprocessing import LabelEncoder\n",
    "from sklearn.model_selection import StratifiedKFold\n",
    "\n",
    "history = History()\n",
    "model = Sequential()\n",
    "model.add(Dense(100,  activation='relu',input_shape=(X_train.shape[1],)))\n",
    "model.add(Dropout(0.2))\n",
    "model.add(Dense(50, activation='relu'))\n",
    "model.add(Dropout(0.2))\n",
    "model.add(Dense(10, activation='relu'))\n",
    "model.add(Dropout(0.2))\n",
    "model.add(Dense(units=1,activation='sigmoid'))\n",
    "\n",
    "Adam = keras.optimizers.Adam(learning_rate=0.001, beta_1=0.9, beta_2=0.999, amsgrad=True)\n",
    "model.compile(loss='binary_crossentropy', optimizer='adam',metrics=['accuracy'])\n",
    "model.fit(X_train, \n",
    "          y_train,\n",
    "          validation_data= (X_test, y_test),\n",
    "          batch_size=32,\n",
    "          epochs=80,\n",
    "          callbacks=[history])\n"
   ]
  },
  {
   "cell_type": "code",
   "execution_count": 213,
   "id": "8de7e44a",
   "metadata": {},
   "outputs": [
    {
     "data": {
      "text/plain": [
       "dict_keys(['loss', 'accuracy', 'val_loss', 'val_accuracy'])"
      ]
     },
     "execution_count": 213,
     "metadata": {},
     "output_type": "execute_result"
    }
   ],
   "source": [
    "history.history.keys()"
   ]
  },
  {
   "cell_type": "code",
   "execution_count": 225,
   "id": "1003540c",
   "metadata": {},
   "outputs": [
    {
     "data": {
      "image/png": "[encoded data removed]",
      "text/plain": [
       "<Figure size 1008x576 with 1 Axes>"
      ]
     },
     "metadata": {
      "needs_background": "light"
     },
     "output_type": "display_data"
    }
   ],
   "source": [
    "# model_loss = pd.DataFrame(model.history.history)\n",
    "# model_loss.plot()\n",
    "# model_loss = pd.DataFrame(model.history.history)\n",
    "# model_loss.plot()\n",
    "\n",
    "import matplotlib.pyplot as plt\n",
    "plt.subplots(figsize=(14, 8))\n",
    "# sns.heatmap(data.corr())\n",
    "plt.plot(history.history['accuracy'], label = \"tarina\")\n",
    "plt.plot(history.history['val_accuracy'], label = \"test\")\n",
    "plt.plot(history.history['loss'], label = \"tarina\")\n",
    "plt.plot(history.history['val_loss'], label = \"test\")\n",
    "plt.legend()\n",
    "plt.show()"
   ]
  },
  {
   "cell_type": "code",
   "execution_count": 226,
   "id": "191aa817",
   "metadata": {},
   "outputs": [],
   "source": [
    "preds=model.predict(X_test)\n",
    "preds = pd.DataFrame(preds)"
   ]
  },
  {
   "cell_type": "code",
   "execution_count": 227,
   "id": "8907e411",
   "metadata": {},
   "outputs": [
    {
     "data": {
      "text/plain": [
       "0.9901558654634947"
      ]
     },
     "execution_count": 227,
     "metadata": {},
     "output_type": "execute_result"
    }
   ],
   "source": [
    "preds[0] = (preds[0] > .5).astype(int)\n",
    "metrics.accuracy_score(y_true= y_test, y_pred= preds)"
   ]
  },
  {
   "cell_type": "code",
   "execution_count": null,
   "id": "0e4afbcf",
   "metadata": {},
   "outputs": [],
   "source": []
  }
 ],
 "metadata": {
  "kernelspec": {
   "display_name": "Python 3",
   "language": "python",
   "name": "python3"
  },
  "language_info": {
   "codemirror_mode": {
    "name": "ipython",
    "version": 3
   },
   "file_extension": ".py",
   "mimetype": "text/x-python",
   "name": "python",
   "nbconvert_exporter": "python",
   "pygments_lexer": "ipython3",
   "version": "3.9.4"
  }
 },
 "nbformat": 4,
 "nbformat_minor": 5
}
