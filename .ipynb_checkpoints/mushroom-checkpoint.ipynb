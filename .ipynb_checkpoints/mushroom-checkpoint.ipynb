{
 "cells": [
  {
   "cell_type": "code",
   "execution_count": 45,
   "id": "72558283",
   "metadata": {},
   "outputs": [],
   "source": [
    "# https://www.kaggle.com/uciml/mushroom-classification\n",
    "\n",
    "# Attribute Information: (classes: edible=e, poisonous=p)\n",
    "\n",
    "# cap-shape: bell=b,conical=c,convex=x,flat=f, knobbed=k,sunken=s\n",
    "\n",
    "# cap-surface: fibrous=f,grooves=g,scaly=y,smooth=s\n",
    "\n",
    "# cap-color: brown=n,buff=b,cinnamon=c,gray=g,green=r,pink=p,purple=u,red=e,white=w,yellow=y\n",
    "\n",
    "# bruises: bruises=t,no=f\n",
    "\n",
    "# odor: almond=a,anise=l,creosote=c,fishy=y,foul=f,musty=m,none=n,pungent=p,spicy=s\n",
    "\n",
    "# gill-attachment: attached=a,descending=d,free=f,notched=n\n",
    "\n",
    "# gill-spacing: close=c,crowded=w,distant=d\n",
    "\n",
    "# gill-size: broad=b,narrow=n\n",
    "\n",
    "# gill-color: black=k,brown=n,buff=b,chocolate=h,gray=g, green=r,orange=o,pink=p,purple=u,red=e,white=w,yellow=y\n",
    "\n",
    "# stalk-shape: enlarging=e,tapering=t\n",
    "\n",
    "# stalk-root: bulbous=b,club=c,cup=u,equal=e,rhizomorphs=z,rooted=r,missing=?\n",
    "\n",
    "# stalk-surface-above-ring: fibrous=f,scaly=y,silky=k,smooth=s\n",
    "\n",
    "# stalk-surface-below-ring: fibrous=f,scaly=y,silky=k,smooth=s\n",
    "\n",
    "# stalk-color-above-ring: brown=n,buff=b,cinnamon=c,gray=g,orange=o,pink=p,red=e,white=w,yellow=y\n",
    "\n",
    "# stalk-color-below-ring: brown=n,buff=b,cinnamon=c,gray=g,orange=o,pink=p,red=e,white=w,yellow=y\n",
    "\n",
    "# veil-type: partial=p,universal=u\n",
    "\n",
    "# veil-color: brown=n,orange=o,white=w,yellow=y\n",
    "\n",
    "# ring-number: none=n,one=o,two=t\n",
    "\n",
    "# ring-type: cobwebby=c,evanescent=e,flaring=f,large=l,none=n,pendant=p,sheathing=s,zone=z\n",
    "\n",
    "# spore-print-color: black=k,brown=n,buff=b,chocolate=h,green=r,orange=o,purple=u,white=w,yellow=y\n",
    "\n",
    "# population: abundant=a,clustered=c,numerous=n,scattered=s,several=v,solitary=y\n",
    "\n",
    "# habitat: grasses=g,leaves=l,meadows=m,paths=p,urban=u,waste=w,woods=d"
   ]
  },
  {
   "cell_type": "code",
   "execution_count": 160,
   "id": "a860d6c7",
   "metadata": {},
   "outputs": [],
   "source": [
    "import numpy as np\n",
    "import pandas as pd\n",
    "import seaborn as sns\n",
    "import matplotlib.pyplot as plt\n",
    "import os\n",
    "\n",
    "from sklearn import metrics\n",
    "from sklearn.linear_model import LogisticRegression\n",
    "from sklearn.model_selection import train_test_split\n",
    "from sklearn.preprocessing import LabelEncoder\n",
    "from sklearn.pipeline import make_pipeline\n",
    "from sklearn.preprocessing import StandardScaler\n",
    "from sklearn.model_selection import GridSearchCV\n",
    "from sklearn import linear_model\n",
    "from sklearn.preprocessing import PolynomialFeatures\n",
    "from sklearn.linear_model import Ridge\n",
    "from sklearn.linear_model import Lasso\n",
    "from sklearn.linear_model import ElasticNet\n",
    "from sklearn.pipeline import make_pipeline\n",
    "from sklearn import model_selection\n",
    "\n",
    "import tensorflow as tf\n",
    "from tensorflow import keras as keras\n",
    "from keras.regularizers import l2"
   ]
  },
  {
   "cell_type": "code",
   "execution_count": 161,
   "id": "da3ecf9a",
   "metadata": {},
   "outputs": [],
   "source": [
    "data = pd.read_csv('./mushrooms.csv')"
   ]
  },
  {
   "cell_type": "code",
   "execution_count": 162,
   "id": "d555e2d0",
   "metadata": {},
   "outputs": [
    {
     "data": {
      "text/html": [
       "<div>\n",
       "<style scoped>\n",
       "    .dataframe tbody tr th:only-of-type {\n",
       "        vertical-align: middle;\n",
       "    }\n",
       "\n",
       "    .dataframe tbody tr th {\n",
       "        vertical-align: top;\n",
       "    }\n",
       "\n",
       "    .dataframe thead th {\n",
       "        text-align: right;\n",
       "    }\n",
       "</style>\n",
       "<table border=\"1\" class=\"dataframe\">\n",
       "  <thead>\n",
       "    <tr style=\"text-align: right;\">\n",
       "      <th></th>\n",
       "      <th>0</th>\n",
       "      <th>1</th>\n",
       "      <th>2</th>\n",
       "      <th>3</th>\n",
       "      <th>4</th>\n",
       "    </tr>\n",
       "  </thead>\n",
       "  <tbody>\n",
       "    <tr>\n",
       "      <th>class</th>\n",
       "      <td>p</td>\n",
       "      <td>e</td>\n",
       "      <td>e</td>\n",
       "      <td>p</td>\n",
       "      <td>e</td>\n",
       "    </tr>\n",
       "    <tr>\n",
       "      <th>cap-shape</th>\n",
       "      <td>x</td>\n",
       "      <td>x</td>\n",
       "      <td>b</td>\n",
       "      <td>x</td>\n",
       "      <td>x</td>\n",
       "    </tr>\n",
       "    <tr>\n",
       "      <th>cap-surface</th>\n",
       "      <td>s</td>\n",
       "      <td>s</td>\n",
       "      <td>s</td>\n",
       "      <td>y</td>\n",
       "      <td>s</td>\n",
       "    </tr>\n",
       "    <tr>\n",
       "      <th>cap-color</th>\n",
       "      <td>n</td>\n",
       "      <td>y</td>\n",
       "      <td>w</td>\n",
       "      <td>w</td>\n",
       "      <td>g</td>\n",
       "    </tr>\n",
       "    <tr>\n",
       "      <th>bruises</th>\n",
       "      <td>t</td>\n",
       "      <td>t</td>\n",
       "      <td>t</td>\n",
       "      <td>t</td>\n",
       "      <td>f</td>\n",
       "    </tr>\n",
       "    <tr>\n",
       "      <th>odor</th>\n",
       "      <td>p</td>\n",
       "      <td>a</td>\n",
       "      <td>l</td>\n",
       "      <td>p</td>\n",
       "      <td>n</td>\n",
       "    </tr>\n",
       "    <tr>\n",
       "      <th>gill-attachment</th>\n",
       "      <td>f</td>\n",
       "      <td>f</td>\n",
       "      <td>f</td>\n",
       "      <td>f</td>\n",
       "      <td>f</td>\n",
       "    </tr>\n",
       "    <tr>\n",
       "      <th>gill-spacing</th>\n",
       "      <td>c</td>\n",
       "      <td>c</td>\n",
       "      <td>c</td>\n",
       "      <td>c</td>\n",
       "      <td>w</td>\n",
       "    </tr>\n",
       "    <tr>\n",
       "      <th>gill-size</th>\n",
       "      <td>n</td>\n",
       "      <td>b</td>\n",
       "      <td>b</td>\n",
       "      <td>n</td>\n",
       "      <td>b</td>\n",
       "    </tr>\n",
       "    <tr>\n",
       "      <th>gill-color</th>\n",
       "      <td>k</td>\n",
       "      <td>k</td>\n",
       "      <td>n</td>\n",
       "      <td>n</td>\n",
       "      <td>k</td>\n",
       "    </tr>\n",
       "    <tr>\n",
       "      <th>stalk-shape</th>\n",
       "      <td>e</td>\n",
       "      <td>e</td>\n",
       "      <td>e</td>\n",
       "      <td>e</td>\n",
       "      <td>t</td>\n",
       "    </tr>\n",
       "    <tr>\n",
       "      <th>stalk-root</th>\n",
       "      <td>e</td>\n",
       "      <td>c</td>\n",
       "      <td>c</td>\n",
       "      <td>e</td>\n",
       "      <td>e</td>\n",
       "    </tr>\n",
       "    <tr>\n",
       "      <th>stalk-surface-above-ring</th>\n",
       "      <td>s</td>\n",
       "      <td>s</td>\n",
       "      <td>s</td>\n",
       "      <td>s</td>\n",
       "      <td>s</td>\n",
       "    </tr>\n",
       "    <tr>\n",
       "      <th>stalk-surface-below-ring</th>\n",
       "      <td>s</td>\n",
       "      <td>s</td>\n",
       "      <td>s</td>\n",
       "      <td>s</td>\n",
       "      <td>s</td>\n",
       "    </tr>\n",
       "    <tr>\n",
       "      <th>stalk-color-above-ring</th>\n",
       "      <td>w</td>\n",
       "      <td>w</td>\n",
       "      <td>w</td>\n",
       "      <td>w</td>\n",
       "      <td>w</td>\n",
       "    </tr>\n",
       "    <tr>\n",
       "      <th>stalk-color-below-ring</th>\n",
       "      <td>w</td>\n",
       "      <td>w</td>\n",
       "      <td>w</td>\n",
       "      <td>w</td>\n",
       "      <td>w</td>\n",
       "    </tr>\n",
       "    <tr>\n",
       "      <th>veil-type</th>\n",
       "      <td>p</td>\n",
       "      <td>p</td>\n",
       "      <td>p</td>\n",
       "      <td>p</td>\n",
       "      <td>p</td>\n",
       "    </tr>\n",
       "    <tr>\n",
       "      <th>veil-color</th>\n",
       "      <td>w</td>\n",
       "      <td>w</td>\n",
       "      <td>w</td>\n",
       "      <td>w</td>\n",
       "      <td>w</td>\n",
       "    </tr>\n",
       "    <tr>\n",
       "      <th>ring-number</th>\n",
       "      <td>o</td>\n",
       "      <td>o</td>\n",
       "      <td>o</td>\n",
       "      <td>o</td>\n",
       "      <td>o</td>\n",
       "    </tr>\n",
       "    <tr>\n",
       "      <th>ring-type</th>\n",
       "      <td>p</td>\n",
       "      <td>p</td>\n",
       "      <td>p</td>\n",
       "      <td>p</td>\n",
       "      <td>e</td>\n",
       "    </tr>\n",
       "    <tr>\n",
       "      <th>spore-print-color</th>\n",
       "      <td>k</td>\n",
       "      <td>n</td>\n",
       "      <td>n</td>\n",
       "      <td>k</td>\n",
       "      <td>n</td>\n",
       "    </tr>\n",
       "    <tr>\n",
       "      <th>population</th>\n",
       "      <td>s</td>\n",
       "      <td>n</td>\n",
       "      <td>n</td>\n",
       "      <td>s</td>\n",
       "      <td>a</td>\n",
       "    </tr>\n",
       "    <tr>\n",
       "      <th>habitat</th>\n",
       "      <td>u</td>\n",
       "      <td>g</td>\n",
       "      <td>m</td>\n",
       "      <td>u</td>\n",
       "      <td>g</td>\n",
       "    </tr>\n",
       "  </tbody>\n",
       "</table>\n",
       "</div>"
      ],
      "text/plain": [
       "                          0  1  2  3  4\n",
       "class                     p  e  e  p  e\n",
       "cap-shape                 x  x  b  x  x\n",
       "cap-surface               s  s  s  y  s\n",
       "cap-color                 n  y  w  w  g\n",
       "bruises                   t  t  t  t  f\n",
       "odor                      p  a  l  p  n\n",
       "gill-attachment           f  f  f  f  f\n",
       "gill-spacing              c  c  c  c  w\n",
       "gill-size                 n  b  b  n  b\n",
       "gill-color                k  k  n  n  k\n",
       "stalk-shape               e  e  e  e  t\n",
       "stalk-root                e  c  c  e  e\n",
       "stalk-surface-above-ring  s  s  s  s  s\n",
       "stalk-surface-below-ring  s  s  s  s  s\n",
       "stalk-color-above-ring    w  w  w  w  w\n",
       "stalk-color-below-ring    w  w  w  w  w\n",
       "veil-type                 p  p  p  p  p\n",
       "veil-color                w  w  w  w  w\n",
       "ring-number               o  o  o  o  o\n",
       "ring-type                 p  p  p  p  e\n",
       "spore-print-color         k  n  n  k  n\n",
       "population                s  n  n  s  a\n",
       "habitat                   u  g  m  u  g"
      ]
     },
     "execution_count": 162,
     "metadata": {},
     "output_type": "execute_result"
    }
   ],
   "source": [
    "data.head().T"
   ]
  },
  {
   "cell_type": "code",
   "execution_count": 163,
   "id": "6dc355c5",
   "metadata": {
    "scrolled": true
   },
   "outputs": [
    {
     "data": {
      "text/plain": [
       "(8124, 23)"
      ]
     },
     "execution_count": 163,
     "metadata": {},
     "output_type": "execute_result"
    }
   ],
   "source": [
    "data.shape"
   ]
  },
  {
   "cell_type": "code",
   "execution_count": 164,
   "id": "4ff51597",
   "metadata": {},
   "outputs": [
    {
     "data": {
      "text/plain": [
       "class                       0\n",
       "cap-shape                   0\n",
       "cap-surface                 0\n",
       "cap-color                   0\n",
       "bruises                     0\n",
       "odor                        0\n",
       "gill-attachment             0\n",
       "gill-spacing                0\n",
       "gill-size                   0\n",
       "gill-color                  0\n",
       "stalk-shape                 0\n",
       "stalk-root                  0\n",
       "stalk-surface-above-ring    0\n",
       "stalk-surface-below-ring    0\n",
       "stalk-color-above-ring      0\n",
       "stalk-color-below-ring      0\n",
       "veil-type                   0\n",
       "veil-color                  0\n",
       "ring-number                 0\n",
       "ring-type                   0\n",
       "spore-print-color           0\n",
       "population                  0\n",
       "habitat                     0\n",
       "dtype: int64"
      ]
     },
     "execution_count": 164,
     "metadata": {},
     "output_type": "execute_result"
    }
   ],
   "source": [
    "# missing data\n",
    "data.isnull().sum() "
   ]
  },
  {
   "cell_type": "code",
   "execution_count": 165,
   "id": "8f4f4b1f",
   "metadata": {},
   "outputs": [
    {
     "name": "stderr",
     "output_type": "stream",
     "text": [
      "C:\\Users\\DawOp\\AppData\\Local\\Programs\\Python\\Python39\\lib\\site-packages\\seaborn\\_decorators.py:36: FutureWarning: Pass the following variable as a keyword arg: x. From version 0.12, the only valid positional argument will be `data`, and passing other arguments without an explicit keyword will result in an error or misinterpretation.\n",
      "  warnings.warn(\n"
     ]
    },
    {
     "data": {
      "text/plain": [
       "<AxesSubplot:xlabel='class', ylabel='count'>"
      ]
     },
     "execution_count": 165,
     "metadata": {},
     "output_type": "execute_result"
    },
    {
     "data": {
      "image/png": "[encoded data removed]",
      "text/plain": [
       "<Figure size 432x288 with 1 Axes>"
      ]
     },
     "metadata": {
      "needs_background": "light"
     },
     "output_type": "display_data"
    }
   ],
   "source": [
    "# trujace vs jadalne\n",
    "sns.countplot(data['class'])\n"
   ]
  },
  {
   "cell_type": "code",
   "execution_count": 109,
   "id": "ac8fc4bb",
   "metadata": {
    "scrolled": true
   },
   "outputs": [
    {
     "data": {
      "image/png": "[encoded data removed]",
      "text/plain": [
       "<Figure size 720x360 with 2 Axes>"
      ]
     },
     "metadata": {
      "needs_background": "light"
     },
     "output_type": "display_data"
    }
   ],
   "source": [
    "# cap-color: brown=n,buff=b,cinnamon=c,gray=g,green=r,pink=p,purple=u,red=e,white=w,yellow=y\n",
    "# cap-shape: bell=b,conical=c,convex=x,flat=f, knobbed=k,sunken=s\n",
    "# cap-surface: fibrous=f,grooves=g,scaly=y,smooth=s\n",
    "\n",
    "g = sns.catplot(x=\"cap-color\",col=\"class\",data=data, kind=\"count\");"
   ]
  },
  {
   "cell_type": "code",
   "execution_count": 166,
   "id": "f7066db2",
   "metadata": {},
   "outputs": [],
   "source": [
    "encoder = LabelEncoder()\n",
    "\n",
    "for column in range(len(data.columns)):\n",
    "    data[data.columns[column]] = encoder.fit_transform(data[data.columns[column]])\n",
    "\n",
    "\n",
    "X = data.drop(['class'] , axis = 1)\n",
    "y = data['class']"
   ]
  },
  {
   "cell_type": "code",
   "execution_count": 167,
   "id": "8d9c79d9",
   "metadata": {},
   "outputs": [],
   "source": [
    "data = data.drop(columns=[\"veil-type\"])"
   ]
  },
  {
   "cell_type": "code",
   "execution_count": null,
   "id": "16a72935",
   "metadata": {},
   "outputs": [],
   "source": [
    "data.head().T"
   ]
  },
  {
   "cell_type": "code",
   "execution_count": 168,
   "id": "7d7c458a",
   "metadata": {},
   "outputs": [
    {
     "data": {
      "text/plain": [
       "<AxesSubplot:>"
      ]
     },
     "execution_count": 168,
     "metadata": {},
     "output_type": "execute_result"
    },
    {
     "data": {
      "image/png": "[encoded data removed]",
      "text/plain": [
       "<Figure size 1440x1008 with 2 Axes>"
      ]
     },
     "metadata": {
      "needs_background": "light"
     },
     "output_type": "display_data"
    }
   ],
   "source": [
    "plt.subplots(figsize=(20, 14))\n",
    "sns.heatmap(data.corr())"
   ]
  },
  {
   "cell_type": "code",
   "execution_count": 169,
   "id": "0967bd99",
   "metadata": {},
   "outputs": [],
   "source": [
    "X_train,X_test,y_train,y_test = train_test_split(X,y,random_state = 3,test_size = 0.3)"
   ]
  },
  {
   "cell_type": "code",
   "execution_count": 170,
   "id": "958b8a37",
   "metadata": {},
   "outputs": [
    {
     "data": {
      "text/plain": [
       "(5686, 22)"
      ]
     },
     "execution_count": 170,
     "metadata": {},
     "output_type": "execute_result"
    }
   ],
   "source": [
    "X_train.shape"
   ]
  },
  {
   "cell_type": "code",
   "execution_count": 171,
   "id": "7aec198a",
   "metadata": {},
   "outputs": [
    {
     "data": {
      "text/plain": [
       "(2438, 22)"
      ]
     },
     "execution_count": 171,
     "metadata": {},
     "output_type": "execute_result"
    }
   ],
   "source": [
    "X_test.shape"
   ]
  },
  {
   "cell_type": "code",
   "execution_count": 172,
   "id": "2ee46b0d",
   "metadata": {},
   "outputs": [
    {
     "data": {
      "text/plain": [
       "LinearRegression()"
      ]
     },
     "execution_count": 172,
     "metadata": {},
     "output_type": "execute_result"
    }
   ],
   "source": [
    "reg = linear_model.LinearRegression()\n",
    "reg.fit(X_train, y_train)"
   ]
  },
  {
   "cell_type": "code",
   "execution_count": 173,
   "id": "ba9edeee",
   "metadata": {},
   "outputs": [
    {
     "data": {
      "text/plain": [
       "0.7454172163940096"
      ]
     },
     "execution_count": 173,
     "metadata": {},
     "output_type": "execute_result"
    }
   ],
   "source": [
    "reg.score(X_train, y_train)"
   ]
  },
  {
   "cell_type": "code",
   "execution_count": 174,
   "id": "aa4f6131",
   "metadata": {},
   "outputs": [
    {
     "ename": "NameError",
     "evalue": "name 'x_test' is not defined",
     "output_type": "error",
     "traceback": [
      "\u001b[1;31m---------------------------------------------------------------------------\u001b[0m",
      "\u001b[1;31mNameError\u001b[0m                                 Traceback (most recent call last)",
      "\u001b[1;32m<ipython-input-174-8cab6433b12d>\u001b[0m in \u001b[0;36m<module>\u001b[1;34m\u001b[0m\n\u001b[1;32m----> 1\u001b[1;33m \u001b[0mreg\u001b[0m\u001b[1;33m.\u001b[0m\u001b[0mscore\u001b[0m\u001b[1;33m(\u001b[0m\u001b[0mx_test\u001b[0m\u001b[1;33m,\u001b[0m \u001b[0my_test\u001b[0m\u001b[1;33m)\u001b[0m\u001b[1;33m\u001b[0m\u001b[1;33m\u001b[0m\u001b[0m\n\u001b[0m",
      "\u001b[1;31mNameError\u001b[0m: name 'x_test' is not defined"
     ]
    }
   ],
   "source": [
    "reg.score(X_test, y_test)"
   ]
  },
  {
   "cell_type": "code",
   "execution_count": null,
   "id": "45eea857",
   "metadata": {},
   "outputs": [],
   "source": [
    "models = []\n",
    "models.append(('ElasticNet', grid_1.best_estimator_))\n",
    "models.append(('LinearRegression', reg))\n",
    "models.append(('Lasso', grid_2.best_estimator_))\n",
    "models.append(('Ridge', grid_3.best_estimator_))\n",
    "\n",
    "r2 = []\n",
    "explained_variance_score = []\n",
    "median_absolute_error = []\n",
    "mean_squared_error = []\n",
    "mean_absolute_error = []\n",
    "for name, model in models:\n",
    "    print(name)\n",
    "    print(\"R^2: {}\".format(metrics.r2_score(y_test, model.predict(x_test)) ))\n",
    "    print(\"Explained variance score: {}\".format( metrics.explained_variance_score(y_test, model.predict(x_test)) ))\n",
    "    print(\"Median absolute error: {}\".format( metrics.median_absolute_error(y_test, model.predict(x_test)) ))\n",
    "    print(\"Mean squared error: {}\".format( metrics.mean_squared_error(y_test, model.predict(x_test)) ))\n",
    "    print(\"Mean absolute errors: {}\".format(metrics.mean_absolute_error(y_test, model.predict(x_test)) ))\n",
    "    r2.append(metrics.r2_score(y_test, model.predict(x_test)))\n",
    "    explained_variance_score.append(metrics.explained_variance_score(y_test, model.predict(x_test)))\n",
    "    median_absolute_error.append( metrics.median_absolute_error(y_test, model.predict(x_test)))\n",
    "    mean_squared_error.append(metrics.mean_squared_error(y_test, model.predict(x_test)))\n",
    "    mean_absolute_error.append(metrics.mean_absolute_error(y_test, model.predict(x_test)))"
   ]
  },
  {
   "cell_type": "code",
   "execution_count": 116,
   "id": "973e18ad",
   "metadata": {},
   "outputs": [
    {
     "name": "stdout",
     "output_type": "stream",
     "text": [
      "Epoch 1/100\n",
      "178/178 [==============================] - 1s 1ms/step - loss: 0.6030 - accuracy: 0.6906 - val_loss: 0.4470 - val_accuracy: 0.8355\n",
      "Epoch 2/100\n",
      "178/178 [==============================] - 0s 955us/step - loss: 0.3723 - accuracy: 0.8683 - val_loss: 0.3052 - val_accuracy: 0.8962\n",
      "Epoch 3/100\n",
      "178/178 [==============================] - 0s 966us/step - loss: 0.2825 - accuracy: 0.9151 - val_loss: 0.2505 - val_accuracy: 0.9221\n",
      "Epoch 4/100\n",
      "178/178 [==============================] - 0s 949us/step - loss: 0.2441 - accuracy: 0.9305 - val_loss: 0.2299 - val_accuracy: 0.9299\n",
      "Epoch 5/100\n",
      "178/178 [==============================] - 0s 949us/step - loss: 0.2282 - accuracy: 0.9346 - val_loss: 0.2275 - val_accuracy: 0.9299\n",
      "Epoch 6/100\n",
      "178/178 [==============================] - 0s 949us/step - loss: 0.2257 - accuracy: 0.9377 - val_loss: 0.2140 - val_accuracy: 0.9397\n",
      "Epoch 7/100\n",
      "178/178 [==============================] - 0s 949us/step - loss: 0.2196 - accuracy: 0.9409 - val_loss: 0.2118 - val_accuracy: 0.9401\n",
      "Epoch 8/100\n",
      "178/178 [==============================] - 0s 932us/step - loss: 0.2223 - accuracy: 0.9416 - val_loss: 0.2103 - val_accuracy: 0.9393\n",
      "Epoch 9/100\n",
      "178/178 [==============================] - 0s 949us/step - loss: 0.2160 - accuracy: 0.9425 - val_loss: 0.2077 - val_accuracy: 0.9418\n",
      "Epoch 10/100\n",
      "178/178 [==============================] - 0s 944us/step - loss: 0.2155 - accuracy: 0.9418 - val_loss: 0.2065 - val_accuracy: 0.9422\n",
      "Epoch 11/100\n",
      "178/178 [==============================] - 0s 979us/step - loss: 0.2116 - accuracy: 0.9437 - val_loss: 0.2071 - val_accuracy: 0.9409\n",
      "Epoch 12/100\n",
      "178/178 [==============================] - 0s 938us/step - loss: 0.2101 - accuracy: 0.9453 - val_loss: 0.2052 - val_accuracy: 0.9426\n",
      "Epoch 13/100\n",
      "178/178 [==============================] - 0s 960us/step - loss: 0.2090 - accuracy: 0.9450 - val_loss: 0.2044 - val_accuracy: 0.9430\n",
      "Epoch 14/100\n",
      "178/178 [==============================] - 0s 943us/step - loss: 0.2073 - accuracy: 0.9455 - val_loss: 0.2036 - val_accuracy: 0.9430\n",
      "Epoch 15/100\n",
      "178/178 [==============================] - 0s 955us/step - loss: 0.2089 - accuracy: 0.9450 - val_loss: 0.2030 - val_accuracy: 0.9434\n",
      "Epoch 16/100\n",
      "178/178 [==============================] - 0s 933us/step - loss: 0.2087 - accuracy: 0.9462 - val_loss: 0.2030 - val_accuracy: 0.9434\n",
      "Epoch 17/100\n",
      "178/178 [==============================] - 0s 960us/step - loss: 0.2057 - accuracy: 0.9464 - val_loss: 0.2025 - val_accuracy: 0.9430\n",
      "Epoch 18/100\n",
      "178/178 [==============================] - 0s 957us/step - loss: 0.2096 - accuracy: 0.9458 - val_loss: 0.2021 - val_accuracy: 0.9430\n",
      "Epoch 19/100\n",
      "178/178 [==============================] - 0s 955us/step - loss: 0.2068 - accuracy: 0.9469 - val_loss: 0.2019 - val_accuracy: 0.9434\n",
      "Epoch 20/100\n",
      "178/178 [==============================] - 0s 955us/step - loss: 0.2028 - accuracy: 0.9476 - val_loss: 0.2018 - val_accuracy: 0.9434\n",
      "Epoch 21/100\n",
      "178/178 [==============================] - 0s 937us/step - loss: 0.2023 - accuracy: 0.9478 - val_loss: 0.2015 - val_accuracy: 0.9434\n",
      "Epoch 22/100\n",
      "178/178 [==============================] - 0s 938us/step - loss: 0.2014 - accuracy: 0.9479 - val_loss: 0.2016 - val_accuracy: 0.9434\n",
      "Epoch 23/100\n",
      "178/178 [==============================] - 0s 955us/step - loss: 0.2046 - accuracy: 0.9481 - val_loss: 0.2014 - val_accuracy: 0.9434\n",
      "Epoch 24/100\n",
      "178/178 [==============================] - 0s 955us/step - loss: 0.1989 - accuracy: 0.9471 - val_loss: 0.2015 - val_accuracy: 0.9434\n",
      "Epoch 25/100\n",
      "178/178 [==============================] - 0s 944us/step - loss: 0.2002 - accuracy: 0.9479 - val_loss: 0.2011 - val_accuracy: 0.9434\n",
      "Epoch 26/100\n",
      "178/178 [==============================] - 0s 960us/step - loss: 0.2007 - accuracy: 0.9476 - val_loss: 0.2011 - val_accuracy: 0.9434\n",
      "Epoch 27/100\n",
      "178/178 [==============================] - 0s 949us/step - loss: 0.1995 - accuracy: 0.9483 - val_loss: 0.2023 - val_accuracy: 0.9426\n",
      "Epoch 28/100\n",
      "178/178 [==============================] - 0s 955us/step - loss: 0.2007 - accuracy: 0.9479 - val_loss: 0.2011 - val_accuracy: 0.9434\n",
      "Epoch 29/100\n",
      "178/178 [==============================] - 0s 963us/step - loss: 0.2002 - accuracy: 0.9472 - val_loss: 0.2009 - val_accuracy: 0.9434\n",
      "Epoch 30/100\n",
      "178/178 [==============================] - 0s 960us/step - loss: 0.2016 - accuracy: 0.9485 - val_loss: 0.2013 - val_accuracy: 0.9434\n",
      "Epoch 31/100\n",
      "178/178 [==============================] - 0s 977us/step - loss: 0.2009 - accuracy: 0.9481 - val_loss: 0.2008 - val_accuracy: 0.9434\n",
      "Epoch 32/100\n",
      "178/178 [==============================] - 0s 938us/step - loss: 0.1977 - accuracy: 0.9486 - val_loss: 0.2009 - val_accuracy: 0.9434\n",
      "Epoch 33/100\n",
      "178/178 [==============================] - 0s 960us/step - loss: 0.1999 - accuracy: 0.9481 - val_loss: 0.2007 - val_accuracy: 0.9434\n",
      "Epoch 34/100\n",
      "178/178 [==============================] - 0s 944us/step - loss: 0.1994 - accuracy: 0.9485 - val_loss: 0.2007 - val_accuracy: 0.9434\n",
      "Epoch 35/100\n",
      "178/178 [==============================] - 0s 943us/step - loss: 0.1974 - accuracy: 0.9488 - val_loss: 0.2008 - val_accuracy: 0.9434\n",
      "Epoch 36/100\n",
      "178/178 [==============================] - 0s 960us/step - loss: 0.1960 - accuracy: 0.9486 - val_loss: 0.2007 - val_accuracy: 0.9434\n",
      "Epoch 37/100\n",
      "178/178 [==============================] - 0s 949us/step - loss: 0.1989 - accuracy: 0.9486 - val_loss: 0.2009 - val_accuracy: 0.9434\n",
      "Epoch 38/100\n",
      "178/178 [==============================] - 0s 955us/step - loss: 0.2012 - accuracy: 0.9485 - val_loss: 0.2006 - val_accuracy: 0.9434\n",
      "Epoch 39/100\n",
      "178/178 [==============================] - 0s 960us/step - loss: 0.2027 - accuracy: 0.9481 - val_loss: 0.2008 - val_accuracy: 0.9434\n",
      "Epoch 40/100\n",
      "178/178 [==============================] - 0s 955us/step - loss: 0.2007 - accuracy: 0.9488 - val_loss: 0.2007 - val_accuracy: 0.9434\n",
      "Epoch 41/100\n",
      "178/178 [==============================] - 0s 960us/step - loss: 0.1980 - accuracy: 0.9488 - val_loss: 0.2006 - val_accuracy: 0.9434\n",
      "Epoch 42/100\n",
      "178/178 [==============================] - 0s 966us/step - loss: 0.1995 - accuracy: 0.9478 - val_loss: 0.2007 - val_accuracy: 0.9434\n",
      "Epoch 43/100\n",
      "178/178 [==============================] - 0s 938us/step - loss: 0.1988 - accuracy: 0.9488 - val_loss: 0.2006 - val_accuracy: 0.9434\n",
      "Epoch 44/100\n",
      "178/178 [==============================] - 0s 944us/step - loss: 0.1988 - accuracy: 0.9490 - val_loss: 0.2005 - val_accuracy: 0.9434\n",
      "Epoch 45/100\n",
      "178/178 [==============================] - 0s 932us/step - loss: 0.1976 - accuracy: 0.9478 - val_loss: 0.2006 - val_accuracy: 0.9434\n",
      "Epoch 46/100\n",
      "178/178 [==============================] - 0s 932us/step - loss: 0.1985 - accuracy: 0.9488 - val_loss: 0.2006 - val_accuracy: 0.9434\n",
      "Epoch 47/100\n",
      "178/178 [==============================] - 0s 932us/step - loss: 0.1944 - accuracy: 0.9490 - val_loss: 0.2006 - val_accuracy: 0.9434\n",
      "Epoch 48/100\n",
      "178/178 [==============================] - 0s 949us/step - loss: 0.1971 - accuracy: 0.9486 - val_loss: 0.2006 - val_accuracy: 0.9434\n",
      "Epoch 49/100\n",
      "178/178 [==============================] - 0s 949us/step - loss: 0.1961 - accuracy: 0.9486 - val_loss: 0.2009 - val_accuracy: 0.9434\n",
      "Epoch 50/100\n",
      "178/178 [==============================] - 0s 944us/step - loss: 0.1998 - accuracy: 0.9490 - val_loss: 0.2006 - val_accuracy: 0.9434\n",
      "Epoch 51/100\n",
      "178/178 [==============================] - 0s 949us/step - loss: 0.1972 - accuracy: 0.9483 - val_loss: 0.2006 - val_accuracy: 0.9434\n",
      "Epoch 52/100\n",
      "178/178 [==============================] - 0s 949us/step - loss: 0.1984 - accuracy: 0.9490 - val_loss: 0.2006 - val_accuracy: 0.9434\n",
      "Epoch 53/100\n",
      "178/178 [==============================] - 0s 966us/step - loss: 0.1995 - accuracy: 0.9490 - val_loss: 0.2007 - val_accuracy: 0.9434\n",
      "Epoch 54/100\n",
      "178/178 [==============================] - 0s 1000us/step - loss: 0.1998 - accuracy: 0.9485 - val_loss: 0.2005 - val_accuracy: 0.9434\n",
      "Epoch 55/100\n",
      "178/178 [==============================] - 0s 944us/step - loss: 0.1993 - accuracy: 0.9481 - val_loss: 0.2005 - val_accuracy: 0.9434\n",
      "Epoch 56/100\n",
      "178/178 [==============================] - 0s 932us/step - loss: 0.1985 - accuracy: 0.9490 - val_loss: 0.2006 - val_accuracy: 0.9434\n",
      "Epoch 57/100\n"
     ]
    },
    {
     "name": "stdout",
     "output_type": "stream",
     "text": [
      "178/178 [==============================] - 0s 960us/step - loss: 0.1961 - accuracy: 0.9488 - val_loss: 0.2006 - val_accuracy: 0.9434\n",
      "Epoch 58/100\n",
      "178/178 [==============================] - 0s 994us/step - loss: 0.1953 - accuracy: 0.9483 - val_loss: 0.2007 - val_accuracy: 0.9434\n",
      "Epoch 59/100\n",
      "178/178 [==============================] - 0s 1ms/step - loss: 0.1970 - accuracy: 0.9488 - val_loss: 0.2006 - val_accuracy: 0.9434\n",
      "Epoch 60/100\n",
      "178/178 [==============================] - 0s 960us/step - loss: 0.1985 - accuracy: 0.9490 - val_loss: 0.2006 - val_accuracy: 0.9434\n",
      "Epoch 61/100\n",
      "178/178 [==============================] - 0s 949us/step - loss: 0.1997 - accuracy: 0.9486 - val_loss: 0.2006 - val_accuracy: 0.9434\n",
      "Epoch 62/100\n",
      "178/178 [==============================] - 0s 964us/step - loss: 0.1965 - accuracy: 0.9490 - val_loss: 0.2006 - val_accuracy: 0.9434\n",
      "Epoch 63/100\n",
      "178/178 [==============================] - 0s 949us/step - loss: 0.1986 - accuracy: 0.9490 - val_loss: 0.2007 - val_accuracy: 0.9434\n",
      "Epoch 64/100\n",
      "178/178 [==============================] - 0s 931us/step - loss: 0.1988 - accuracy: 0.9483 - val_loss: 0.2007 - val_accuracy: 0.9434\n",
      "Epoch 65/100\n",
      "178/178 [==============================] - 0s 938us/step - loss: 0.1974 - accuracy: 0.9488 - val_loss: 0.2005 - val_accuracy: 0.9434\n",
      "Epoch 66/100\n",
      "178/178 [==============================] - 0s 955us/step - loss: 0.1980 - accuracy: 0.9490 - val_loss: 0.2005 - val_accuracy: 0.9434\n",
      "Epoch 67/100\n",
      "178/178 [==============================] - 0s 966us/step - loss: 0.1952 - accuracy: 0.9490 - val_loss: 0.2006 - val_accuracy: 0.9434\n",
      "Epoch 68/100\n",
      "178/178 [==============================] - 0s 960us/step - loss: 0.2003 - accuracy: 0.9483 - val_loss: 0.2006 - val_accuracy: 0.9434\n",
      "Epoch 69/100\n",
      "178/178 [==============================] - 0s 960us/step - loss: 0.1987 - accuracy: 0.9483 - val_loss: 0.2006 - val_accuracy: 0.9434\n",
      "Epoch 70/100\n",
      "178/178 [==============================] - 0s 1000us/step - loss: 0.2013 - accuracy: 0.9490 - val_loss: 0.2005 - val_accuracy: 0.9434\n",
      "Epoch 71/100\n",
      "178/178 [==============================] - 0s 994us/step - loss: 0.1980 - accuracy: 0.9488 - val_loss: 0.2006 - val_accuracy: 0.9434\n",
      "Epoch 72/100\n",
      "178/178 [==============================] - 0s 1ms/step - loss: 0.1981 - accuracy: 0.9488 - val_loss: 0.2005 - val_accuracy: 0.9434\n",
      "Epoch 73/100\n",
      "178/178 [==============================] - 0s 972us/step - loss: 0.1994 - accuracy: 0.9490 - val_loss: 0.2005 - val_accuracy: 0.9434\n",
      "Epoch 74/100\n",
      "178/178 [==============================] - 0s 960us/step - loss: 0.1960 - accuracy: 0.9490 - val_loss: 0.2006 - val_accuracy: 0.9434\n",
      "Epoch 75/100\n",
      "178/178 [==============================] - 0s 960us/step - loss: 0.1981 - accuracy: 0.9490 - val_loss: 0.2006 - val_accuracy: 0.9434\n",
      "Epoch 76/100\n",
      "178/178 [==============================] - 0s 966us/step - loss: 0.1950 - accuracy: 0.9490 - val_loss: 0.2006 - val_accuracy: 0.9434\n",
      "Epoch 77/100\n",
      "178/178 [==============================] - 0s 955us/step - loss: 0.1999 - accuracy: 0.9486 - val_loss: 0.2005 - val_accuracy: 0.9434\n",
      "Epoch 78/100\n",
      "178/178 [==============================] - 0s 1ms/step - loss: 0.1968 - accuracy: 0.9488 - val_loss: 0.2006 - val_accuracy: 0.9434\n",
      "Epoch 79/100\n",
      "178/178 [==============================] - 0s 960us/step - loss: 0.1965 - accuracy: 0.9486 - val_loss: 0.2006 - val_accuracy: 0.9434\n",
      "Epoch 80/100\n",
      "178/178 [==============================] - 0s 949us/step - loss: 0.1977 - accuracy: 0.9490 - val_loss: 0.2005 - val_accuracy: 0.9434\n",
      "Epoch 81/100\n",
      "178/178 [==============================] - 0s 955us/step - loss: 0.1976 - accuracy: 0.9490 - val_loss: 0.2005 - val_accuracy: 0.9434\n",
      "Epoch 82/100\n",
      "178/178 [==============================] - 0s 960us/step - loss: 0.1971 - accuracy: 0.9490 - val_loss: 0.2006 - val_accuracy: 0.9434\n",
      "Epoch 83/100\n",
      "178/178 [==============================] - 0s 955us/step - loss: 0.1961 - accuracy: 0.9490 - val_loss: 0.2006 - val_accuracy: 0.9434\n",
      "Epoch 84/100\n",
      "178/178 [==============================] - 0s 966us/step - loss: 0.1964 - accuracy: 0.9490 - val_loss: 0.2005 - val_accuracy: 0.9434\n",
      "Epoch 85/100\n",
      "178/178 [==============================] - 0s 955us/step - loss: 0.1982 - accuracy: 0.9490 - val_loss: 0.2006 - val_accuracy: 0.9434\n",
      "Epoch 86/100\n",
      "178/178 [==============================] - 0s 972us/step - loss: 0.1980 - accuracy: 0.9485 - val_loss: 0.2006 - val_accuracy: 0.9434\n",
      "Epoch 87/100\n",
      "178/178 [==============================] - 0s 944us/step - loss: 0.1938 - accuracy: 0.9490 - val_loss: 0.2007 - val_accuracy: 0.9434\n",
      "Epoch 88/100\n",
      "178/178 [==============================] - 0s 966us/step - loss: 0.1941 - accuracy: 0.9488 - val_loss: 0.2006 - val_accuracy: 0.9434\n",
      "Epoch 89/100\n",
      "178/178 [==============================] - 0s 949us/step - loss: 0.1969 - accuracy: 0.9488 - val_loss: 0.2007 - val_accuracy: 0.9434\n",
      "Epoch 90/100\n",
      "178/178 [==============================] - 0s 972us/step - loss: 0.1964 - accuracy: 0.9490 - val_loss: 0.2006 - val_accuracy: 0.9434\n",
      "Epoch 91/100\n",
      "178/178 [==============================] - 0s 960us/step - loss: 0.1983 - accuracy: 0.9476 - val_loss: 0.2006 - val_accuracy: 0.9434\n",
      "Epoch 92/100\n",
      "178/178 [==============================] - 0s 938us/step - loss: 0.1970 - accuracy: 0.9490 - val_loss: 0.2005 - val_accuracy: 0.9434\n",
      "Epoch 93/100\n",
      "178/178 [==============================] - 0s 943us/step - loss: 0.1964 - accuracy: 0.9488 - val_loss: 0.2006 - val_accuracy: 0.9434\n",
      "Epoch 94/100\n",
      "178/178 [==============================] - 0s 955us/step - loss: 0.1968 - accuracy: 0.9490 - val_loss: 0.2006 - val_accuracy: 0.9434\n",
      "Epoch 95/100\n",
      "178/178 [==============================] - 0s 955us/step - loss: 0.1990 - accuracy: 0.9490 - val_loss: 0.2005 - val_accuracy: 0.9434\n",
      "Epoch 96/100\n",
      "178/178 [==============================] - 0s 943us/step - loss: 0.1979 - accuracy: 0.9488 - val_loss: 0.2006 - val_accuracy: 0.9434\n",
      "Epoch 97/100\n",
      "178/178 [==============================] - 0s 949us/step - loss: 0.1983 - accuracy: 0.9488 - val_loss: 0.2005 - val_accuracy: 0.9434\n",
      "Epoch 98/100\n",
      "178/178 [==============================] - 0s 955us/step - loss: 0.1978 - accuracy: 0.9490 - val_loss: 0.2006 - val_accuracy: 0.9434\n",
      "Epoch 99/100\n",
      "178/178 [==============================] - 0s 944us/step - loss: 0.1961 - accuracy: 0.9490 - val_loss: 0.2006 - val_accuracy: 0.9434\n",
      "Epoch 100/100\n",
      "178/178 [==============================] - 0s 944us/step - loss: 0.1994 - accuracy: 0.9490 - val_loss: 0.2005 - val_accuracy: 0.9434\n"
     ]
    },
    {
     "data": {
      "text/plain": [
       "<tensorflow.python.keras.callbacks.History at 0x21739a51520>"
      ]
     },
     "execution_count": 116,
     "metadata": {},
     "output_type": "execute_result"
    }
   ],
   "source": [
    "from tensorflow.keras.models import Sequential\n",
    "from tensorflow.keras.layers import Dense\n",
    "from tensorflow.keras.callbacks import History\n",
    "from tensorflow.keras.layers import Dense, Activation,Dropout,Flatten\n",
    "from tensorflow.keras.constraints import max_norm\n",
    "from sklearn.model_selection import cross_val_score\n",
    "from sklearn.preprocessing import LabelEncoder\n",
    "from sklearn.model_selection import StratifiedKFold\n",
    "\n",
    "history = History()\n",
    "model = Sequential()\n",
    "model.add(Dense(100,  activation='sigmoid',input_shape=(X_train.shape[1],)))\n",
    "model.add(Dropout(0.2))\n",
    "model.add(Dense(50, activation='sigmoid'))\n",
    "model.add(Dropout(0.2))\n",
    "model.add(Dense(10, activation='sigmoid'))\n",
    "model.add(Dropout(0.2))\n",
    "model.add(Dense(units=1,activation='sigmoid'))\n",
    "\n",
    "Adam = keras.optimizers.Adam(learning_rate=0.001, beta_1=0.9, beta_2=0.999, amsgrad=True)\n",
    "model.compile(loss='binary_crossentropy', optimizer='adam',metrics=['accuracy'])\n",
    "model.fit(X_train, \n",
    "          y_train,\n",
    "          validation_data= (X_test, y_test),\n",
    "          batch_size=32,\n",
    "          epochs=100,\n",
    "          callbacks=[history])\n"
   ]
  },
  {
   "cell_type": "code",
   "execution_count": 60,
   "id": "8de7e44a",
   "metadata": {},
   "outputs": [
    {
     "data": {
      "text/plain": [
       "dict_keys(['loss', 'accuracy', 'val_loss', 'val_accuracy'])"
      ]
     },
     "execution_count": 60,
     "metadata": {},
     "output_type": "execute_result"
    }
   ],
   "source": [
    "history.history.keys()"
   ]
  },
  {
   "cell_type": "code",
   "execution_count": 117,
   "id": "1003540c",
   "metadata": {},
   "outputs": [
    {
     "data": {
      "image/png": "[encoded data removed]",
      "text/plain": [
       "<Figure size 1008x576 with 1 Axes>"
      ]
     },
     "metadata": {
      "needs_background": "light"
     },
     "output_type": "display_data"
    }
   ],
   "source": [
    "# model_loss = pd.DataFrame(model.history.history)\n",
    "# model_loss.plot()\n",
    "# model_loss = pd.DataFrame(model.history.history)\n",
    "# model_loss.plot()\n",
    "\n",
    "import matplotlib.pyplot as plt\n",
    "plt.subplots(figsize=(14, 8))\n",
    "# sns.heatmap(data.corr())\n",
    "plt.plot(history.history['accuracy'], label = \"tarina\")\n",
    "plt.plot(history.history['val_accuracy'], label = \"test\")\n",
    "plt.plot(history.history['loss'], label = \"tarina\")\n",
    "plt.plot(history.history['val_loss'], label = \"test\")\n",
    "plt.legend()\n",
    "plt.show()"
   ]
  },
  {
   "cell_type": "code",
   "execution_count": 118,
   "id": "191aa817",
   "metadata": {},
   "outputs": [],
   "source": [
    "preds=model.predict(X_test)\n",
    "preds = pd.DataFrame(preds)"
   ]
  },
  {
   "cell_type": "code",
   "execution_count": 133,
   "id": "8907e411",
   "metadata": {},
   "outputs": [
    {
     "ename": "ValueError",
     "evalue": "Found input variables with inconsistent numbers of samples: [2438, 5686]",
     "output_type": "error",
     "traceback": [
      "\u001b[1;31m---------------------------------------------------------------------------\u001b[0m",
      "\u001b[1;31mValueError\u001b[0m                                Traceback (most recent call last)",
      "\u001b[1;32m<ipython-input-133-4761f7aaecb4>\u001b[0m in \u001b[0;36m<module>\u001b[1;34m\u001b[0m\n\u001b[0;32m      1\u001b[0m \u001b[0mpreds\u001b[0m\u001b[1;33m[\u001b[0m\u001b[1;36m0\u001b[0m\u001b[1;33m]\u001b[0m \u001b[1;33m=\u001b[0m \u001b[1;33m(\u001b[0m\u001b[0mpreds\u001b[0m\u001b[1;33m[\u001b[0m\u001b[1;36m0\u001b[0m\u001b[1;33m]\u001b[0m \u001b[1;33m>\u001b[0m \u001b[1;36m.5\u001b[0m\u001b[1;33m)\u001b[0m\u001b[1;33m.\u001b[0m\u001b[0mastype\u001b[0m\u001b[1;33m(\u001b[0m\u001b[0mint\u001b[0m\u001b[1;33m)\u001b[0m\u001b[1;33m\u001b[0m\u001b[1;33m\u001b[0m\u001b[0m\n\u001b[1;32m----> 2\u001b[1;33m \u001b[0mmetrics\u001b[0m\u001b[1;33m.\u001b[0m\u001b[0maccuracy_score\u001b[0m\u001b[1;33m(\u001b[0m\u001b[0my_true\u001b[0m\u001b[1;33m=\u001b[0m \u001b[0my_test\u001b[0m\u001b[1;33m,\u001b[0m \u001b[0my_pred\u001b[0m\u001b[1;33m=\u001b[0m \u001b[0mpreds\u001b[0m\u001b[1;33m)\u001b[0m\u001b[1;33m\u001b[0m\u001b[1;33m\u001b[0m\u001b[0m\n\u001b[0m",
      "\u001b[1;32m~\\AppData\\Local\\Programs\\Python\\Python39\\lib\\site-packages\\sklearn\\utils\\validation.py\u001b[0m in \u001b[0;36minner_f\u001b[1;34m(*args, **kwargs)\u001b[0m\n\u001b[0;32m     61\u001b[0m             \u001b[0mextra_args\u001b[0m \u001b[1;33m=\u001b[0m \u001b[0mlen\u001b[0m\u001b[1;33m(\u001b[0m\u001b[0margs\u001b[0m\u001b[1;33m)\u001b[0m \u001b[1;33m-\u001b[0m \u001b[0mlen\u001b[0m\u001b[1;33m(\u001b[0m\u001b[0mall_args\u001b[0m\u001b[1;33m)\u001b[0m\u001b[1;33m\u001b[0m\u001b[1;33m\u001b[0m\u001b[0m\n\u001b[0;32m     62\u001b[0m             \u001b[1;32mif\u001b[0m \u001b[0mextra_args\u001b[0m \u001b[1;33m<=\u001b[0m \u001b[1;36m0\u001b[0m\u001b[1;33m:\u001b[0m\u001b[1;33m\u001b[0m\u001b[1;33m\u001b[0m\u001b[0m\n\u001b[1;32m---> 63\u001b[1;33m                 \u001b[1;32mreturn\u001b[0m \u001b[0mf\u001b[0m\u001b[1;33m(\u001b[0m\u001b[1;33m*\u001b[0m\u001b[0margs\u001b[0m\u001b[1;33m,\u001b[0m \u001b[1;33m**\u001b[0m\u001b[0mkwargs\u001b[0m\u001b[1;33m)\u001b[0m\u001b[1;33m\u001b[0m\u001b[1;33m\u001b[0m\u001b[0m\n\u001b[0m\u001b[0;32m     64\u001b[0m \u001b[1;33m\u001b[0m\u001b[0m\n\u001b[0;32m     65\u001b[0m             \u001b[1;31m# extra_args > 0\u001b[0m\u001b[1;33m\u001b[0m\u001b[1;33m\u001b[0m\u001b[1;33m\u001b[0m\u001b[0m\n",
      "\u001b[1;32m~\\AppData\\Local\\Programs\\Python\\Python39\\lib\\site-packages\\sklearn\\metrics\\_classification.py\u001b[0m in \u001b[0;36maccuracy_score\u001b[1;34m(y_true, y_pred, normalize, sample_weight)\u001b[0m\n\u001b[0;32m    200\u001b[0m \u001b[1;33m\u001b[0m\u001b[0m\n\u001b[0;32m    201\u001b[0m     \u001b[1;31m# Compute accuracy for each possible representation\u001b[0m\u001b[1;33m\u001b[0m\u001b[1;33m\u001b[0m\u001b[1;33m\u001b[0m\u001b[0m\n\u001b[1;32m--> 202\u001b[1;33m     \u001b[0my_type\u001b[0m\u001b[1;33m,\u001b[0m \u001b[0my_true\u001b[0m\u001b[1;33m,\u001b[0m \u001b[0my_pred\u001b[0m \u001b[1;33m=\u001b[0m \u001b[0m_check_targets\u001b[0m\u001b[1;33m(\u001b[0m\u001b[0my_true\u001b[0m\u001b[1;33m,\u001b[0m \u001b[0my_pred\u001b[0m\u001b[1;33m)\u001b[0m\u001b[1;33m\u001b[0m\u001b[1;33m\u001b[0m\u001b[0m\n\u001b[0m\u001b[0;32m    203\u001b[0m     \u001b[0mcheck_consistent_length\u001b[0m\u001b[1;33m(\u001b[0m\u001b[0my_true\u001b[0m\u001b[1;33m,\u001b[0m \u001b[0my_pred\u001b[0m\u001b[1;33m,\u001b[0m \u001b[0msample_weight\u001b[0m\u001b[1;33m)\u001b[0m\u001b[1;33m\u001b[0m\u001b[1;33m\u001b[0m\u001b[0m\n\u001b[0;32m    204\u001b[0m     \u001b[1;32mif\u001b[0m \u001b[0my_type\u001b[0m\u001b[1;33m.\u001b[0m\u001b[0mstartswith\u001b[0m\u001b[1;33m(\u001b[0m\u001b[1;34m'multilabel'\u001b[0m\u001b[1;33m)\u001b[0m\u001b[1;33m:\u001b[0m\u001b[1;33m\u001b[0m\u001b[1;33m\u001b[0m\u001b[0m\n",
      "\u001b[1;32m~\\AppData\\Local\\Programs\\Python\\Python39\\lib\\site-packages\\sklearn\\metrics\\_classification.py\u001b[0m in \u001b[0;36m_check_targets\u001b[1;34m(y_true, y_pred)\u001b[0m\n\u001b[0;32m     81\u001b[0m     \u001b[0my_pred\u001b[0m \u001b[1;33m:\u001b[0m \u001b[0marray\u001b[0m \u001b[1;32mor\u001b[0m \u001b[0mindicator\u001b[0m \u001b[0mmatrix\u001b[0m\u001b[1;33m\u001b[0m\u001b[1;33m\u001b[0m\u001b[0m\n\u001b[0;32m     82\u001b[0m     \"\"\"\n\u001b[1;32m---> 83\u001b[1;33m     \u001b[0mcheck_consistent_length\u001b[0m\u001b[1;33m(\u001b[0m\u001b[0my_true\u001b[0m\u001b[1;33m,\u001b[0m \u001b[0my_pred\u001b[0m\u001b[1;33m)\u001b[0m\u001b[1;33m\u001b[0m\u001b[1;33m\u001b[0m\u001b[0m\n\u001b[0m\u001b[0;32m     84\u001b[0m     \u001b[0mtype_true\u001b[0m \u001b[1;33m=\u001b[0m \u001b[0mtype_of_target\u001b[0m\u001b[1;33m(\u001b[0m\u001b[0my_true\u001b[0m\u001b[1;33m)\u001b[0m\u001b[1;33m\u001b[0m\u001b[1;33m\u001b[0m\u001b[0m\n\u001b[0;32m     85\u001b[0m     \u001b[0mtype_pred\u001b[0m \u001b[1;33m=\u001b[0m \u001b[0mtype_of_target\u001b[0m\u001b[1;33m(\u001b[0m\u001b[0my_pred\u001b[0m\u001b[1;33m)\u001b[0m\u001b[1;33m\u001b[0m\u001b[1;33m\u001b[0m\u001b[0m\n",
      "\u001b[1;32m~\\AppData\\Local\\Programs\\Python\\Python39\\lib\\site-packages\\sklearn\\utils\\validation.py\u001b[0m in \u001b[0;36mcheck_consistent_length\u001b[1;34m(*arrays)\u001b[0m\n\u001b[0;32m    260\u001b[0m     \u001b[0muniques\u001b[0m \u001b[1;33m=\u001b[0m \u001b[0mnp\u001b[0m\u001b[1;33m.\u001b[0m\u001b[0munique\u001b[0m\u001b[1;33m(\u001b[0m\u001b[0mlengths\u001b[0m\u001b[1;33m)\u001b[0m\u001b[1;33m\u001b[0m\u001b[1;33m\u001b[0m\u001b[0m\n\u001b[0;32m    261\u001b[0m     \u001b[1;32mif\u001b[0m \u001b[0mlen\u001b[0m\u001b[1;33m(\u001b[0m\u001b[0muniques\u001b[0m\u001b[1;33m)\u001b[0m \u001b[1;33m>\u001b[0m \u001b[1;36m1\u001b[0m\u001b[1;33m:\u001b[0m\u001b[1;33m\u001b[0m\u001b[1;33m\u001b[0m\u001b[0m\n\u001b[1;32m--> 262\u001b[1;33m         raise ValueError(\"Found input variables with inconsistent numbers of\"\n\u001b[0m\u001b[0;32m    263\u001b[0m                          \" samples: %r\" % [int(l) for l in lengths])\n\u001b[0;32m    264\u001b[0m \u001b[1;33m\u001b[0m\u001b[0m\n",
      "\u001b[1;31mValueError\u001b[0m: Found input variables with inconsistent numbers of samples: [2438, 5686]"
     ]
    }
   ],
   "source": [
    "preds[0] = (preds[0] > .5).astype(int)\n",
    "metrics.accuracy_score(y_true= y_test, y_pred= preds)"
   ]
  },
  {
   "cell_type": "code",
   "execution_count": null,
   "id": "b44e1bea",
   "metadata": {},
   "outputs": [],
   "source": []
  }
 ],
 "metadata": {
  "kernelspec": {
   "display_name": "Python 3",
   "language": "python",
   "name": "python3"
  },
  "language_info": {
   "codemirror_mode": {
    "name": "ipython",
    "version": 3
   },
   "file_extension": ".py",
   "mimetype": "text/x-python",
   "name": "python",
   "nbconvert_exporter": "python",
   "pygments_lexer": "ipython3",
   "version": "3.9.4"
  }
 },
 "nbformat": 4,
 "nbformat_minor": 5
}
