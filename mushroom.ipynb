{
 "cells": [
  {
   "cell_type": "code",
   "execution_count": 1,
   "id": "72558283",
   "metadata": {},
   "outputs": [],
   "source": [
    "# https://www.kaggle.com/uciml/mushroom-classification\n",
    "\n",
    "# Attribute Information: (classes: edible=e, poisonous=p)\n",
    "\n",
    "# cap-shape: bell=b,conical=c,convex=x,flat=f, knobbed=k,sunken=s\n",
    "\n",
    "# cap-surface: fibrous=f,grooves=g,scaly=y,smooth=s\n",
    "\n",
    "# cap-color: brown=n,buff=b,cinnamon=c,gray=g,green=r,pink=p,purple=u,red=e,white=w,yellow=y\n",
    "\n",
    "# bruises: bruises=t,no=f\n",
    "\n",
    "# odor: almond=a,anise=l,creosote=c,fishy=y,foul=f,musty=m,none=n,pungent=p,spicy=s\n",
    "\n",
    "# gill-attachment: attached=a,descending=d,free=f,notched=n\n",
    "\n",
    "# gill-spacing: close=c,crowded=w,distant=d\n",
    "\n",
    "# gill-size: broad=b,narrow=n\n",
    "\n",
    "# gill-color: black=k,brown=n,buff=b,chocolate=h,gray=g, green=r,orange=o,pink=p,purple=u,red=e,white=w,yellow=y\n",
    "\n",
    "# stalk-shape: enlarging=e,tapering=t\n",
    "\n",
    "# stalk-root: bulbous=b,club=c,cup=u,equal=e,rhizomorphs=z,rooted=r,missing=?\n",
    "\n",
    "# stalk-surface-above-ring: fibrous=f,scaly=y,silky=k,smooth=s\n",
    "\n",
    "# stalk-surface-below-ring: fibrous=f,scaly=y,silky=k,smooth=s\n",
    "\n",
    "# stalk-color-above-ring: brown=n,buff=b,cinnamon=c,gray=g,orange=o,pink=p,red=e,white=w,yellow=y\n",
    "\n",
    "# stalk-color-below-ring: brown=n,buff=b,cinnamon=c,gray=g,orange=o,pink=p,red=e,white=w,yellow=y\n",
    "\n",
    "# veil-type: partial=p,universal=u\n",
    "\n",
    "# veil-color: brown=n,orange=o,white=w,yellow=y\n",
    "\n",
    "# ring-number: none=n,one=o,two=t\n",
    "\n",
    "# ring-type: cobwebby=c,evanescent=e,flaring=f,large=l,none=n,pendant=p,sheathing=s,zone=z\n",
    "\n",
    "# spore-print-color: black=k,brown=n,buff=b,chocolate=h,green=r,orange=o,purple=u,white=w,yellow=y\n",
    "\n",
    "# population: abundant=a,clustered=c,numerous=n,scattered=s,several=v,solitary=y\n",
    "\n",
    "# habitat: grasses=g,leaves=l,meadows=m,paths=p,urban=u,waste=w,woods=d"
   ]
  },
  {
   "cell_type": "code",
   "execution_count": 47,
   "id": "a860d6c7",
   "metadata": {},
   "outputs": [],
   "source": [
    "import numpy as np\n",
    "import pandas as pd\n",
    "import seaborn as sns\n",
    "import matplotlib.pyplot as plt\n",
    "import os\n",
    "import tensorflow as tf\n",
    "\n",
    "from sklearn.preprocessing import PolynomialFeatures\n",
    "from sklearn.pipeline import Pipeline\n",
    "from sklearn import metrics\n",
    "from sklearn.tree import DecisionTreeClassifier\n",
    "from sklearn.model_selection import train_test_split\n",
    "from sklearn.preprocessing import LabelEncoder\n",
    "from sklearn.pipeline import make_pipeline\n",
    "from sklearn.preprocessing import StandardScaler\n",
    "from sklearn.model_selection import GridSearchCV\n",
    "from sklearn import svm\n",
    "from sklearn.svm import SVC\n",
    "from sklearn import linear_model\n",
    "from sklearn.linear_model import Lasso\n",
    "from sklearn.pipeline import make_pipeline\n",
    "from sklearn import model_selection\n",
    "from sklearn.linear_model import LinearRegression\n",
    "from sklearn.linear_model import ElasticNet\n",
    "from sklearn.model_selection import StratifiedKFold\n",
    "\n",
    "from tensorflow import keras as keras\n",
    "from keras.regularizers import l2"
   ]
  },
  {
   "cell_type": "code",
   "execution_count": 48,
   "id": "da3ecf9a",
   "metadata": {},
   "outputs": [],
   "source": [
    "data = pd.read_csv('./mushrooms.csv')"
   ]
  },
  {
   "cell_type": "code",
   "execution_count": 49,
   "id": "d555e2d0",
   "metadata": {},
   "outputs": [
    {
     "data": {
      "text/html": [
       "<div>\n",
       "<style scoped>\n",
       "    .dataframe tbody tr th:only-of-type {\n",
       "        vertical-align: middle;\n",
       "    }\n",
       "\n",
       "    .dataframe tbody tr th {\n",
       "        vertical-align: top;\n",
       "    }\n",
       "\n",
       "    .dataframe thead th {\n",
       "        text-align: right;\n",
       "    }\n",
       "</style>\n",
       "<table border=\"1\" class=\"dataframe\">\n",
       "  <thead>\n",
       "    <tr style=\"text-align: right;\">\n",
       "      <th></th>\n",
       "      <th>0</th>\n",
       "      <th>1</th>\n",
       "      <th>2</th>\n",
       "      <th>3</th>\n",
       "      <th>4</th>\n",
       "    </tr>\n",
       "  </thead>\n",
       "  <tbody>\n",
       "    <tr>\n",
       "      <th>class</th>\n",
       "      <td>p</td>\n",
       "      <td>e</td>\n",
       "      <td>e</td>\n",
       "      <td>p</td>\n",
       "      <td>e</td>\n",
       "    </tr>\n",
       "    <tr>\n",
       "      <th>cap-shape</th>\n",
       "      <td>x</td>\n",
       "      <td>x</td>\n",
       "      <td>b</td>\n",
       "      <td>x</td>\n",
       "      <td>x</td>\n",
       "    </tr>\n",
       "    <tr>\n",
       "      <th>cap-surface</th>\n",
       "      <td>s</td>\n",
       "      <td>s</td>\n",
       "      <td>s</td>\n",
       "      <td>y</td>\n",
       "      <td>s</td>\n",
       "    </tr>\n",
       "    <tr>\n",
       "      <th>cap-color</th>\n",
       "      <td>n</td>\n",
       "      <td>y</td>\n",
       "      <td>w</td>\n",
       "      <td>w</td>\n",
       "      <td>g</td>\n",
       "    </tr>\n",
       "    <tr>\n",
       "      <th>bruises</th>\n",
       "      <td>t</td>\n",
       "      <td>t</td>\n",
       "      <td>t</td>\n",
       "      <td>t</td>\n",
       "      <td>f</td>\n",
       "    </tr>\n",
       "    <tr>\n",
       "      <th>odor</th>\n",
       "      <td>p</td>\n",
       "      <td>a</td>\n",
       "      <td>l</td>\n",
       "      <td>p</td>\n",
       "      <td>n</td>\n",
       "    </tr>\n",
       "    <tr>\n",
       "      <th>gill-attachment</th>\n",
       "      <td>f</td>\n",
       "      <td>f</td>\n",
       "      <td>f</td>\n",
       "      <td>f</td>\n",
       "      <td>f</td>\n",
       "    </tr>\n",
       "    <tr>\n",
       "      <th>gill-spacing</th>\n",
       "      <td>c</td>\n",
       "      <td>c</td>\n",
       "      <td>c</td>\n",
       "      <td>c</td>\n",
       "      <td>w</td>\n",
       "    </tr>\n",
       "    <tr>\n",
       "      <th>gill-size</th>\n",
       "      <td>n</td>\n",
       "      <td>b</td>\n",
       "      <td>b</td>\n",
       "      <td>n</td>\n",
       "      <td>b</td>\n",
       "    </tr>\n",
       "    <tr>\n",
       "      <th>gill-color</th>\n",
       "      <td>k</td>\n",
       "      <td>k</td>\n",
       "      <td>n</td>\n",
       "      <td>n</td>\n",
       "      <td>k</td>\n",
       "    </tr>\n",
       "    <tr>\n",
       "      <th>stalk-shape</th>\n",
       "      <td>e</td>\n",
       "      <td>e</td>\n",
       "      <td>e</td>\n",
       "      <td>e</td>\n",
       "      <td>t</td>\n",
       "    </tr>\n",
       "    <tr>\n",
       "      <th>stalk-root</th>\n",
       "      <td>e</td>\n",
       "      <td>c</td>\n",
       "      <td>c</td>\n",
       "      <td>e</td>\n",
       "      <td>e</td>\n",
       "    </tr>\n",
       "    <tr>\n",
       "      <th>stalk-surface-above-ring</th>\n",
       "      <td>s</td>\n",
       "      <td>s</td>\n",
       "      <td>s</td>\n",
       "      <td>s</td>\n",
       "      <td>s</td>\n",
       "    </tr>\n",
       "    <tr>\n",
       "      <th>stalk-surface-below-ring</th>\n",
       "      <td>s</td>\n",
       "      <td>s</td>\n",
       "      <td>s</td>\n",
       "      <td>s</td>\n",
       "      <td>s</td>\n",
       "    </tr>\n",
       "    <tr>\n",
       "      <th>stalk-color-above-ring</th>\n",
       "      <td>w</td>\n",
       "      <td>w</td>\n",
       "      <td>w</td>\n",
       "      <td>w</td>\n",
       "      <td>w</td>\n",
       "    </tr>\n",
       "    <tr>\n",
       "      <th>stalk-color-below-ring</th>\n",
       "      <td>w</td>\n",
       "      <td>w</td>\n",
       "      <td>w</td>\n",
       "      <td>w</td>\n",
       "      <td>w</td>\n",
       "    </tr>\n",
       "    <tr>\n",
       "      <th>veil-type</th>\n",
       "      <td>p</td>\n",
       "      <td>p</td>\n",
       "      <td>p</td>\n",
       "      <td>p</td>\n",
       "      <td>p</td>\n",
       "    </tr>\n",
       "    <tr>\n",
       "      <th>veil-color</th>\n",
       "      <td>w</td>\n",
       "      <td>w</td>\n",
       "      <td>w</td>\n",
       "      <td>w</td>\n",
       "      <td>w</td>\n",
       "    </tr>\n",
       "    <tr>\n",
       "      <th>ring-number</th>\n",
       "      <td>o</td>\n",
       "      <td>o</td>\n",
       "      <td>o</td>\n",
       "      <td>o</td>\n",
       "      <td>o</td>\n",
       "    </tr>\n",
       "    <tr>\n",
       "      <th>ring-type</th>\n",
       "      <td>p</td>\n",
       "      <td>p</td>\n",
       "      <td>p</td>\n",
       "      <td>p</td>\n",
       "      <td>e</td>\n",
       "    </tr>\n",
       "    <tr>\n",
       "      <th>spore-print-color</th>\n",
       "      <td>k</td>\n",
       "      <td>n</td>\n",
       "      <td>n</td>\n",
       "      <td>k</td>\n",
       "      <td>n</td>\n",
       "    </tr>\n",
       "    <tr>\n",
       "      <th>population</th>\n",
       "      <td>s</td>\n",
       "      <td>n</td>\n",
       "      <td>n</td>\n",
       "      <td>s</td>\n",
       "      <td>a</td>\n",
       "    </tr>\n",
       "    <tr>\n",
       "      <th>habitat</th>\n",
       "      <td>u</td>\n",
       "      <td>g</td>\n",
       "      <td>m</td>\n",
       "      <td>u</td>\n",
       "      <td>g</td>\n",
       "    </tr>\n",
       "  </tbody>\n",
       "</table>\n",
       "</div>"
      ],
      "text/plain": [
       "                          0  1  2  3  4\n",
       "class                     p  e  e  p  e\n",
       "cap-shape                 x  x  b  x  x\n",
       "cap-surface               s  s  s  y  s\n",
       "cap-color                 n  y  w  w  g\n",
       "bruises                   t  t  t  t  f\n",
       "odor                      p  a  l  p  n\n",
       "gill-attachment           f  f  f  f  f\n",
       "gill-spacing              c  c  c  c  w\n",
       "gill-size                 n  b  b  n  b\n",
       "gill-color                k  k  n  n  k\n",
       "stalk-shape               e  e  e  e  t\n",
       "stalk-root                e  c  c  e  e\n",
       "stalk-surface-above-ring  s  s  s  s  s\n",
       "stalk-surface-below-ring  s  s  s  s  s\n",
       "stalk-color-above-ring    w  w  w  w  w\n",
       "stalk-color-below-ring    w  w  w  w  w\n",
       "veil-type                 p  p  p  p  p\n",
       "veil-color                w  w  w  w  w\n",
       "ring-number               o  o  o  o  o\n",
       "ring-type                 p  p  p  p  e\n",
       "spore-print-color         k  n  n  k  n\n",
       "population                s  n  n  s  a\n",
       "habitat                   u  g  m  u  g"
      ]
     },
     "execution_count": 49,
     "metadata": {},
     "output_type": "execute_result"
    }
   ],
   "source": [
    "data.head().T"
   ]
  },
  {
   "cell_type": "code",
   "execution_count": 50,
   "id": "6dc355c5",
   "metadata": {
    "scrolled": true
   },
   "outputs": [
    {
     "data": {
      "text/plain": [
       "(8124, 23)"
      ]
     },
     "execution_count": 50,
     "metadata": {},
     "output_type": "execute_result"
    }
   ],
   "source": [
    "data.shape"
   ]
  },
  {
   "cell_type": "code",
   "execution_count": 51,
   "id": "4ff51597",
   "metadata": {},
   "outputs": [
    {
     "data": {
      "text/plain": [
       "class                       0\n",
       "cap-shape                   0\n",
       "cap-surface                 0\n",
       "cap-color                   0\n",
       "bruises                     0\n",
       "odor                        0\n",
       "gill-attachment             0\n",
       "gill-spacing                0\n",
       "gill-size                   0\n",
       "gill-color                  0\n",
       "stalk-shape                 0\n",
       "stalk-root                  0\n",
       "stalk-surface-above-ring    0\n",
       "stalk-surface-below-ring    0\n",
       "stalk-color-above-ring      0\n",
       "stalk-color-below-ring      0\n",
       "veil-type                   0\n",
       "veil-color                  0\n",
       "ring-number                 0\n",
       "ring-type                   0\n",
       "spore-print-color           0\n",
       "population                  0\n",
       "habitat                     0\n",
       "dtype: int64"
      ]
     },
     "execution_count": 51,
     "metadata": {},
     "output_type": "execute_result"
    }
   ],
   "source": [
    "# missing data\n",
    "data.isnull().sum() "
   ]
  },
  {
   "cell_type": "code",
   "execution_count": 52,
   "id": "8f4f4b1f",
   "metadata": {},
   "outputs": [
    {
     "name": "stderr",
     "output_type": "stream",
     "text": [
      "C:\\Users\\DawOp\\AppData\\Local\\Programs\\Python\\Python39\\lib\\site-packages\\seaborn\\_decorators.py:36: FutureWarning: Pass the following variable as a keyword arg: x. From version 0.12, the only valid positional argument will be `data`, and passing other arguments without an explicit keyword will result in an error or misinterpretation.\n",
      "  warnings.warn(\n"
     ]
    },
    {
     "data": {
      "text/plain": [
       "<AxesSubplot:xlabel='class', ylabel='count'>"
      ]
     },
     "execution_count": 52,
     "metadata": {},
     "output_type": "execute_result"
    },
    {
     "data": {
      "image/png": "[encoded data removed]",
      "text/plain": [
       "<Figure size 432x288 with 1 Axes>"
      ]
     },
     "metadata": {
      "needs_background": "light"
     },
     "output_type": "display_data"
    }
   ],
   "source": [
    "# trujace vs jadalne\n",
    "sns.countplot(data['class'])\n"
   ]
  },
  {
   "cell_type": "code",
   "execution_count": 8,
   "id": "4a3a18c9",
   "metadata": {},
   "outputs": [],
   "source": [
    "# sns.pairplot(data['veil-type'])\n",
    "# plt.show()"
   ]
  },
  {
   "cell_type": "code",
   "execution_count": 53,
   "id": "ac8fc4bb",
   "metadata": {
    "scrolled": true
   },
   "outputs": [
    {
     "data": {
      "image/png": "[encoded data removed]",
      "text/plain": [
       "<Figure size 720x360 with 2 Axes>"
      ]
     },
     "metadata": {
      "needs_background": "light"
     },
     "output_type": "display_data"
    }
   ],
   "source": [
    "# cap-color: brown=n,buff=b,cinnamon=c,gray=g,green=r,pink=p,purple=u,red=e,white=w,yellow=y\n",
    "# cap-shape: bell=b,conical=c,convex=x,flat=f, knobbed=k,sunken=s\n",
    "# cap-surface: fibrous=f,grooves=g,scaly=y,smooth=s\n",
    "\n",
    "g = sns.catplot(x=\"cap-color\",col=\"class\",data=data, kind=\"count\");"
   ]
  },
  {
   "cell_type": "code",
   "execution_count": 54,
   "id": "f7066db2",
   "metadata": {},
   "outputs": [],
   "source": [
    "encoder = LabelEncoder()\n",
    "\n",
    "for column in range(len(data.columns)):\n",
    "    data[data.columns[column]] = encoder.fit_transform(data[data.columns[column]])\n"
   ]
  },
  {
   "cell_type": "code",
   "execution_count": 55,
   "id": "12c69076",
   "metadata": {},
   "outputs": [
    {
     "data": {
      "text/plain": [
       "<AxesSubplot:>"
      ]
     },
     "execution_count": 55,
     "metadata": {},
     "output_type": "execute_result"
    },
    {
     "data": {
      "image/png": "[encoded data removed]",
      "text/plain": [
       "<Figure size 1440x1008 with 2 Axes>"
      ]
     },
     "metadata": {
      "needs_background": "light"
     },
     "output_type": "display_data"
    }
   ],
   "source": [
    "plt.subplots(figsize=(20, 14))\n",
    "sns.heatmap(data.corr())"
   ]
  },
  {
   "cell_type": "code",
   "execution_count": 56,
   "id": "8d9c79d9",
   "metadata": {},
   "outputs": [],
   "source": [
    "X = data.drop(columns=[\"veil-type\",\"class\"],axis = 1)\n",
    "y = data['class']"
   ]
  },
  {
   "cell_type": "code",
   "execution_count": 57,
   "id": "d1600654",
   "metadata": {},
   "outputs": [
    {
     "data": {
      "text/html": [
       "<div>\n",
       "<style scoped>\n",
       "    .dataframe tbody tr th:only-of-type {\n",
       "        vertical-align: middle;\n",
       "    }\n",
       "\n",
       "    .dataframe tbody tr th {\n",
       "        vertical-align: top;\n",
       "    }\n",
       "\n",
       "    .dataframe thead th {\n",
       "        text-align: right;\n",
       "    }\n",
       "</style>\n",
       "<table border=\"1\" class=\"dataframe\">\n",
       "  <thead>\n",
       "    <tr style=\"text-align: right;\">\n",
       "      <th></th>\n",
       "      <th>0</th>\n",
       "      <th>1</th>\n",
       "      <th>2</th>\n",
       "      <th>3</th>\n",
       "      <th>4</th>\n",
       "    </tr>\n",
       "  </thead>\n",
       "  <tbody>\n",
       "    <tr>\n",
       "      <th>cap-shape</th>\n",
       "      <td>5</td>\n",
       "      <td>5</td>\n",
       "      <td>0</td>\n",
       "      <td>5</td>\n",
       "      <td>5</td>\n",
       "    </tr>\n",
       "    <tr>\n",
       "      <th>cap-surface</th>\n",
       "      <td>2</td>\n",
       "      <td>2</td>\n",
       "      <td>2</td>\n",
       "      <td>3</td>\n",
       "      <td>2</td>\n",
       "    </tr>\n",
       "    <tr>\n",
       "      <th>cap-color</th>\n",
       "      <td>4</td>\n",
       "      <td>9</td>\n",
       "      <td>8</td>\n",
       "      <td>8</td>\n",
       "      <td>3</td>\n",
       "    </tr>\n",
       "    <tr>\n",
       "      <th>bruises</th>\n",
       "      <td>1</td>\n",
       "      <td>1</td>\n",
       "      <td>1</td>\n",
       "      <td>1</td>\n",
       "      <td>0</td>\n",
       "    </tr>\n",
       "    <tr>\n",
       "      <th>odor</th>\n",
       "      <td>6</td>\n",
       "      <td>0</td>\n",
       "      <td>3</td>\n",
       "      <td>6</td>\n",
       "      <td>5</td>\n",
       "    </tr>\n",
       "    <tr>\n",
       "      <th>gill-attachment</th>\n",
       "      <td>1</td>\n",
       "      <td>1</td>\n",
       "      <td>1</td>\n",
       "      <td>1</td>\n",
       "      <td>1</td>\n",
       "    </tr>\n",
       "    <tr>\n",
       "      <th>gill-spacing</th>\n",
       "      <td>0</td>\n",
       "      <td>0</td>\n",
       "      <td>0</td>\n",
       "      <td>0</td>\n",
       "      <td>1</td>\n",
       "    </tr>\n",
       "    <tr>\n",
       "      <th>gill-size</th>\n",
       "      <td>1</td>\n",
       "      <td>0</td>\n",
       "      <td>0</td>\n",
       "      <td>1</td>\n",
       "      <td>0</td>\n",
       "    </tr>\n",
       "    <tr>\n",
       "      <th>gill-color</th>\n",
       "      <td>4</td>\n",
       "      <td>4</td>\n",
       "      <td>5</td>\n",
       "      <td>5</td>\n",
       "      <td>4</td>\n",
       "    </tr>\n",
       "    <tr>\n",
       "      <th>stalk-shape</th>\n",
       "      <td>0</td>\n",
       "      <td>0</td>\n",
       "      <td>0</td>\n",
       "      <td>0</td>\n",
       "      <td>1</td>\n",
       "    </tr>\n",
       "    <tr>\n",
       "      <th>stalk-root</th>\n",
       "      <td>3</td>\n",
       "      <td>2</td>\n",
       "      <td>2</td>\n",
       "      <td>3</td>\n",
       "      <td>3</td>\n",
       "    </tr>\n",
       "    <tr>\n",
       "      <th>stalk-surface-above-ring</th>\n",
       "      <td>2</td>\n",
       "      <td>2</td>\n",
       "      <td>2</td>\n",
       "      <td>2</td>\n",
       "      <td>2</td>\n",
       "    </tr>\n",
       "    <tr>\n",
       "      <th>stalk-surface-below-ring</th>\n",
       "      <td>2</td>\n",
       "      <td>2</td>\n",
       "      <td>2</td>\n",
       "      <td>2</td>\n",
       "      <td>2</td>\n",
       "    </tr>\n",
       "    <tr>\n",
       "      <th>stalk-color-above-ring</th>\n",
       "      <td>7</td>\n",
       "      <td>7</td>\n",
       "      <td>7</td>\n",
       "      <td>7</td>\n",
       "      <td>7</td>\n",
       "    </tr>\n",
       "    <tr>\n",
       "      <th>stalk-color-below-ring</th>\n",
       "      <td>7</td>\n",
       "      <td>7</td>\n",
       "      <td>7</td>\n",
       "      <td>7</td>\n",
       "      <td>7</td>\n",
       "    </tr>\n",
       "    <tr>\n",
       "      <th>veil-color</th>\n",
       "      <td>2</td>\n",
       "      <td>2</td>\n",
       "      <td>2</td>\n",
       "      <td>2</td>\n",
       "      <td>2</td>\n",
       "    </tr>\n",
       "    <tr>\n",
       "      <th>ring-number</th>\n",
       "      <td>1</td>\n",
       "      <td>1</td>\n",
       "      <td>1</td>\n",
       "      <td>1</td>\n",
       "      <td>1</td>\n",
       "    </tr>\n",
       "    <tr>\n",
       "      <th>ring-type</th>\n",
       "      <td>4</td>\n",
       "      <td>4</td>\n",
       "      <td>4</td>\n",
       "      <td>4</td>\n",
       "      <td>0</td>\n",
       "    </tr>\n",
       "    <tr>\n",
       "      <th>spore-print-color</th>\n",
       "      <td>2</td>\n",
       "      <td>3</td>\n",
       "      <td>3</td>\n",
       "      <td>2</td>\n",
       "      <td>3</td>\n",
       "    </tr>\n",
       "    <tr>\n",
       "      <th>population</th>\n",
       "      <td>3</td>\n",
       "      <td>2</td>\n",
       "      <td>2</td>\n",
       "      <td>3</td>\n",
       "      <td>0</td>\n",
       "    </tr>\n",
       "    <tr>\n",
       "      <th>habitat</th>\n",
       "      <td>5</td>\n",
       "      <td>1</td>\n",
       "      <td>3</td>\n",
       "      <td>5</td>\n",
       "      <td>1</td>\n",
       "    </tr>\n",
       "  </tbody>\n",
       "</table>\n",
       "</div>"
      ],
      "text/plain": [
       "                          0  1  2  3  4\n",
       "cap-shape                 5  5  0  5  5\n",
       "cap-surface               2  2  2  3  2\n",
       "cap-color                 4  9  8  8  3\n",
       "bruises                   1  1  1  1  0\n",
       "odor                      6  0  3  6  5\n",
       "gill-attachment           1  1  1  1  1\n",
       "gill-spacing              0  0  0  0  1\n",
       "gill-size                 1  0  0  1  0\n",
       "gill-color                4  4  5  5  4\n",
       "stalk-shape               0  0  0  0  1\n",
       "stalk-root                3  2  2  3  3\n",
       "stalk-surface-above-ring  2  2  2  2  2\n",
       "stalk-surface-below-ring  2  2  2  2  2\n",
       "stalk-color-above-ring    7  7  7  7  7\n",
       "stalk-color-below-ring    7  7  7  7  7\n",
       "veil-color                2  2  2  2  2\n",
       "ring-number               1  1  1  1  1\n",
       "ring-type                 4  4  4  4  0\n",
       "spore-print-color         2  3  3  2  3\n",
       "population                3  2  2  3  0\n",
       "habitat                   5  1  3  5  1"
      ]
     },
     "execution_count": 57,
     "metadata": {},
     "output_type": "execute_result"
    }
   ],
   "source": [
    "X.head().T"
   ]
  },
  {
   "cell_type": "code",
   "execution_count": 58,
   "id": "0967bd99",
   "metadata": {},
   "outputs": [],
   "source": [
    "X_train,X_test,y_train,y_test = train_test_split(X,y,random_state = 3,test_size = 0.3)"
   ]
  },
  {
   "cell_type": "code",
   "execution_count": 59,
   "id": "958b8a37",
   "metadata": {},
   "outputs": [
    {
     "data": {
      "text/plain": [
       "(5686, 21)"
      ]
     },
     "execution_count": 59,
     "metadata": {},
     "output_type": "execute_result"
    }
   ],
   "source": [
    "X_train.shape"
   ]
  },
  {
   "cell_type": "code",
   "execution_count": 60,
   "id": "43bf4b5d",
   "metadata": {},
   "outputs": [
    {
     "data": {
      "text/plain": [
       "(2438, 21)"
      ]
     },
     "execution_count": 60,
     "metadata": {},
     "output_type": "execute_result"
    }
   ],
   "source": [
    "X_test.shape"
   ]
  },
  {
   "cell_type": "code",
   "execution_count": 17,
   "id": "08836099",
   "metadata": {},
   "outputs": [],
   "source": [
    "seed=123\n",
    "kfold = StratifiedKFold(n_splits=5, random_state=seed,shuffle=True)"
   ]
  },
  {
   "cell_type": "code",
   "execution_count": 18,
   "id": "f93534e2",
   "metadata": {},
   "outputs": [
    {
     "name": "stderr",
     "output_type": "stream",
     "text": [
      "C:\\Users\\DawOp\\AppData\\Local\\Programs\\Python\\Python39\\lib\\site-packages\\sklearn\\linear_model\\_coordinate_descent.py:530: ConvergenceWarning: Objective did not converge. You might want to increase the number of iterations. Duality gap: 0.9801274455900568, tolerance: 0.11359531662269126\n",
      "  model = cd_fast.enet_coordinate_descent(\n",
      "C:\\Users\\DawOp\\AppData\\Local\\Programs\\Python\\Python39\\lib\\site-packages\\sklearn\\linear_model\\_coordinate_descent.py:530: ConvergenceWarning: Objective did not converge. You might want to increase the number of iterations. Duality gap: 1.3625785338269623, tolerance: 0.11361881732248864\n",
      "  model = cd_fast.enet_coordinate_descent(\n",
      "C:\\Users\\DawOp\\AppData\\Local\\Programs\\Python\\Python39\\lib\\site-packages\\sklearn\\linear_model\\_coordinate_descent.py:530: ConvergenceWarning: Objective did not converge. You might want to increase the number of iterations. Duality gap: 1.024924141642316, tolerance: 0.11362185095625381\n",
      "  model = cd_fast.enet_coordinate_descent(\n",
      "C:\\Users\\DawOp\\AppData\\Local\\Programs\\Python\\Python39\\lib\\site-packages\\sklearn\\linear_model\\_coordinate_descent.py:530: ConvergenceWarning: Objective did not converge. You might want to increase the number of iterations. Duality gap: 1.8068088714837955, tolerance: 0.11362185095625381\n",
      "  model = cd_fast.enet_coordinate_descent(\n",
      "C:\\Users\\DawOp\\AppData\\Local\\Programs\\Python\\Python39\\lib\\site-packages\\sklearn\\linear_model\\_coordinate_descent.py:530: ConvergenceWarning: Objective did not converge. You might want to increase the number of iterations. Duality gap: 2.154828144965407, tolerance: 0.11362185095625381\n",
      "  model = cd_fast.enet_coordinate_descent(\n",
      "C:\\Users\\DawOp\\AppData\\Local\\Programs\\Python\\Python39\\lib\\site-packages\\sklearn\\linear_model\\_coordinate_descent.py:530: ConvergenceWarning: Objective did not converge. You might want to increase the number of iterations. Duality gap: 14.637169629024623, tolerance: 0.11359531662269126\n",
      "  model = cd_fast.enet_coordinate_descent(\n",
      "C:\\Users\\DawOp\\AppData\\Local\\Programs\\Python\\Python39\\lib\\site-packages\\sklearn\\linear_model\\_coordinate_descent.py:530: ConvergenceWarning: Objective did not converge. You might want to increase the number of iterations. Duality gap: 15.002711123619006, tolerance: 0.11361881732248864\n",
      "  model = cd_fast.enet_coordinate_descent(\n",
      "C:\\Users\\DawOp\\AppData\\Local\\Programs\\Python\\Python39\\lib\\site-packages\\sklearn\\linear_model\\_coordinate_descent.py:530: ConvergenceWarning: Objective did not converge. You might want to increase the number of iterations. Duality gap: 15.136014350902585, tolerance: 0.11362185095625381\n",
      "  model = cd_fast.enet_coordinate_descent(\n",
      "C:\\Users\\DawOp\\AppData\\Local\\Programs\\Python\\Python39\\lib\\site-packages\\sklearn\\linear_model\\_coordinate_descent.py:530: ConvergenceWarning: Objective did not converge. You might want to increase the number of iterations. Duality gap: 15.187238353954385, tolerance: 0.11362185095625381\n",
      "  model = cd_fast.enet_coordinate_descent(\n",
      "C:\\Users\\DawOp\\AppData\\Local\\Programs\\Python\\Python39\\lib\\site-packages\\sklearn\\linear_model\\_coordinate_descent.py:530: ConvergenceWarning: Objective did not converge. You might want to increase the number of iterations. Duality gap: 14.687168640543113, tolerance: 0.11362185095625381\n",
      "  model = cd_fast.enet_coordinate_descent(\n",
      "C:\\Users\\DawOp\\AppData\\Local\\Programs\\Python\\Python39\\lib\\site-packages\\sklearn\\linear_model\\_coordinate_descent.py:530: ConvergenceWarning: Objective did not converge. You might want to increase the number of iterations. Duality gap: 4.180754309066623, tolerance: 0.11359531662269126\n",
      "  model = cd_fast.enet_coordinate_descent(\n",
      "C:\\Users\\DawOp\\AppData\\Local\\Programs\\Python\\Python39\\lib\\site-packages\\sklearn\\linear_model\\_coordinate_descent.py:530: ConvergenceWarning: Objective did not converge. You might want to increase the number of iterations. Duality gap: 4.231612102360529, tolerance: 0.11361881732248864\n",
      "  model = cd_fast.enet_coordinate_descent(\n",
      "C:\\Users\\DawOp\\AppData\\Local\\Programs\\Python\\Python39\\lib\\site-packages\\sklearn\\linear_model\\_coordinate_descent.py:530: ConvergenceWarning: Objective did not converge. You might want to increase the number of iterations. Duality gap: 4.235102178256018, tolerance: 0.11362185095625381\n",
      "  model = cd_fast.enet_coordinate_descent(\n",
      "C:\\Users\\DawOp\\AppData\\Local\\Programs\\Python\\Python39\\lib\\site-packages\\sklearn\\linear_model\\_coordinate_descent.py:530: ConvergenceWarning: Objective did not converge. You might want to increase the number of iterations. Duality gap: 4.204656157650123, tolerance: 0.11362185095625381\n",
      "  model = cd_fast.enet_coordinate_descent(\n",
      "C:\\Users\\DawOp\\AppData\\Local\\Programs\\Python\\Python39\\lib\\site-packages\\sklearn\\linear_model\\_coordinate_descent.py:530: ConvergenceWarning: Objective did not converge. You might want to increase the number of iterations. Duality gap: 4.16381902776123, tolerance: 0.11362185095625381\n",
      "  model = cd_fast.enet_coordinate_descent(\n",
      "C:\\Users\\DawOp\\AppData\\Local\\Programs\\Python\\Python39\\lib\\site-packages\\sklearn\\linear_model\\_coordinate_descent.py:530: ConvergenceWarning: Objective did not converge. You might want to increase the number of iterations. Duality gap: 2.691365301158754, tolerance: 0.11359531662269126\n",
      "  model = cd_fast.enet_coordinate_descent(\n",
      "C:\\Users\\DawOp\\AppData\\Local\\Programs\\Python\\Python39\\lib\\site-packages\\sklearn\\linear_model\\_coordinate_descent.py:530: ConvergenceWarning: Objective did not converge. You might want to increase the number of iterations. Duality gap: 1.8215910559411554, tolerance: 0.11361881732248864\n",
      "  model = cd_fast.enet_coordinate_descent(\n",
      "C:\\Users\\DawOp\\AppData\\Local\\Programs\\Python\\Python39\\lib\\site-packages\\sklearn\\linear_model\\_coordinate_descent.py:530: ConvergenceWarning: Objective did not converge. You might want to increase the number of iterations. Duality gap: 1.153174554795953, tolerance: 0.11362185095625381\n",
      "  model = cd_fast.enet_coordinate_descent(\n",
      "C:\\Users\\DawOp\\AppData\\Local\\Programs\\Python\\Python39\\lib\\site-packages\\sklearn\\linear_model\\_coordinate_descent.py:530: ConvergenceWarning: Objective did not converge. You might want to increase the number of iterations. Duality gap: 1.7176140566107563, tolerance: 0.11362185095625381\n",
      "  model = cd_fast.enet_coordinate_descent(\n",
      "C:\\Users\\DawOp\\AppData\\Local\\Programs\\Python\\Python39\\lib\\site-packages\\sklearn\\linear_model\\_coordinate_descent.py:530: ConvergenceWarning: Objective did not converge. You might want to increase the number of iterations. Duality gap: 2.2189712491810667, tolerance: 0.11362185095625381\n",
      "  model = cd_fast.enet_coordinate_descent(\n",
      "C:\\Users\\DawOp\\AppData\\Local\\Programs\\Python\\Python39\\lib\\site-packages\\sklearn\\linear_model\\_coordinate_descent.py:530: ConvergenceWarning: Objective did not converge. You might want to increase the number of iterations. Duality gap: 16.210472331438204, tolerance: 0.11359531662269126\n",
      "  model = cd_fast.enet_coordinate_descent(\n",
      "C:\\Users\\DawOp\\AppData\\Local\\Programs\\Python\\Python39\\lib\\site-packages\\sklearn\\linear_model\\_coordinate_descent.py:530: ConvergenceWarning: Objective did not converge. You might want to increase the number of iterations. Duality gap: 16.53036211117111, tolerance: 0.11361881732248864\n",
      "  model = cd_fast.enet_coordinate_descent(\n",
      "C:\\Users\\DawOp\\AppData\\Local\\Programs\\Python\\Python39\\lib\\site-packages\\sklearn\\linear_model\\_coordinate_descent.py:530: ConvergenceWarning: Objective did not converge. You might want to increase the number of iterations. Duality gap: 16.20161514765095, tolerance: 0.11362185095625381\n",
      "  model = cd_fast.enet_coordinate_descent(\n",
      "C:\\Users\\DawOp\\AppData\\Local\\Programs\\Python\\Python39\\lib\\site-packages\\sklearn\\linear_model\\_coordinate_descent.py:530: ConvergenceWarning: Objective did not converge. You might want to increase the number of iterations. Duality gap: 16.9268844181049, tolerance: 0.11362185095625381\n",
      "  model = cd_fast.enet_coordinate_descent(\n",
      "C:\\Users\\DawOp\\AppData\\Local\\Programs\\Python\\Python39\\lib\\site-packages\\sklearn\\linear_model\\_coordinate_descent.py:530: ConvergenceWarning: Objective did not converge. You might want to increase the number of iterations. Duality gap: 16.497741165018866, tolerance: 0.11362185095625381\n",
      "  model = cd_fast.enet_coordinate_descent(\n"
     ]
    },
    {
     "name": "stderr",
     "output_type": "stream",
     "text": [
      "C:\\Users\\DawOp\\AppData\\Local\\Programs\\Python\\Python39\\lib\\site-packages\\sklearn\\linear_model\\_coordinate_descent.py:530: ConvergenceWarning: Objective did not converge. You might want to increase the number of iterations. Duality gap: 1.513354343256296, tolerance: 0.11359531662269126\n",
      "  model = cd_fast.enet_coordinate_descent(\n",
      "C:\\Users\\DawOp\\AppData\\Local\\Programs\\Python\\Python39\\lib\\site-packages\\sklearn\\linear_model\\_coordinate_descent.py:530: ConvergenceWarning: Objective did not converge. You might want to increase the number of iterations. Duality gap: 0.7157137922361017, tolerance: 0.11361881732248864\n",
      "  model = cd_fast.enet_coordinate_descent(\n",
      "C:\\Users\\DawOp\\AppData\\Local\\Programs\\Python\\Python39\\lib\\site-packages\\sklearn\\linear_model\\_coordinate_descent.py:530: ConvergenceWarning: Objective did not converge. You might want to increase the number of iterations. Duality gap: 0.606254474554575, tolerance: 0.11362185095625381\n",
      "  model = cd_fast.enet_coordinate_descent(\n",
      "C:\\Users\\DawOp\\AppData\\Local\\Programs\\Python\\Python39\\lib\\site-packages\\sklearn\\linear_model\\_coordinate_descent.py:530: ConvergenceWarning: Objective did not converge. You might want to increase the number of iterations. Duality gap: 0.7217657564844444, tolerance: 0.11362185095625381\n",
      "  model = cd_fast.enet_coordinate_descent(\n",
      "C:\\Users\\DawOp\\AppData\\Local\\Programs\\Python\\Python39\\lib\\site-packages\\sklearn\\linear_model\\_coordinate_descent.py:530: ConvergenceWarning: Objective did not converge. You might want to increase the number of iterations. Duality gap: 0.36767296378526737, tolerance: 0.11362185095625381\n",
      "  model = cd_fast.enet_coordinate_descent(\n",
      "C:\\Users\\DawOp\\AppData\\Local\\Programs\\Python\\Python39\\lib\\site-packages\\sklearn\\linear_model\\_coordinate_descent.py:530: ConvergenceWarning: Objective did not converge. You might want to increase the number of iterations. Duality gap: 5.290804143483218, tolerance: 0.1420199261343646\n",
      "  model = cd_fast.enet_coordinate_descent(\n"
     ]
    },
    {
     "data": {
      "text/plain": [
       "{'lasso__alpha': 0.01, 'polynomialfeatures__degree': 4}"
      ]
     },
     "execution_count": 18,
     "metadata": {},
     "output_type": "execute_result"
    }
   ],
   "source": [
    "grid_1 = GridSearchCV(make_pipeline(PolynomialFeatures(), Lasso(random_state=seed)),\n",
    "                    param_grid={'polynomialfeatures__degree': [1, 2, 3, 4],\n",
    "                    'lasso__alpha': [0.01, 0.1, 1, 10]\n",
    "                               },\n",
    "                    cv=kfold,\n",
    "                    refit=True)\n",
    "grid_1.fit(X_train, y_train)\n",
    "grid_1.best_params_"
   ]
  },
  {
   "cell_type": "code",
   "execution_count": 19,
   "id": "026e3ddb",
   "metadata": {},
   "outputs": [
    {
     "name": "stdout",
     "output_type": "stream",
     "text": [
      "Accuracy on training set: 0.7157891951\n",
      "Accuracy on test set: 0.6987565930\n"
     ]
    }
   ],
   "source": [
    "lasso = linear_model.Lasso(alpha=0.01)\n",
    "lasso.fit(X_train, y_train)\n",
    "print(\"Accuracy on training set: {:.10f}\".format(lasso.score(X_train, y_train)))\n",
    "print(\"Accuracy on test set: {:.10f}\".format(lasso.score(X_test, y_test)))"
   ]
  },
  {
   "cell_type": "code",
   "execution_count": 20,
   "id": "463acb51",
   "metadata": {},
   "outputs": [
    {
     "data": {
      "text/plain": [
       "{'classifier__max_depth': 10,\n",
       " 'classifier__max_leaf_nodes': None,\n",
       " 'preprocessing': StandardScaler()}"
      ]
     },
     "execution_count": 20,
     "metadata": {},
     "output_type": "execute_result"
    }
   ],
   "source": [
    "seed=123\n",
    "kfold = StratifiedKFold(n_splits=5, random_state=seed,shuffle=True)\n",
    "\n",
    "pipeline_7 = Pipeline([('preprocessing', StandardScaler()), ('classifier', DecisionTreeClassifier())])\n",
    "\n",
    "param_grid_2 = {\n",
    "            'preprocessing': [StandardScaler(), None],\n",
    "            'classifier__max_depth': [1, 5, 10, 20],\n",
    "            'classifier__max_leaf_nodes': [None, 5, 10, 20, 50, 100],\n",
    "}\n",
    "\n",
    "grid_2 = GridSearchCV(pipeline_7, param_grid_2, cv=kfold, return_train_score=True)\n",
    "\n",
    "grid_2.fit(X_train, y_train)\n",
    "grid_2.best_params_"
   ]
  },
  {
   "cell_type": "code",
   "execution_count": 21,
   "id": "df750895",
   "metadata": {},
   "outputs": [
    {
     "name": "stdout",
     "output_type": "stream",
     "text": [
      "Accuracy on training set: 1.0000000000\n",
      "Accuracy on test set: 1.0000000000\n"
     ]
    }
   ],
   "source": [
    "tree = DecisionTreeClassifier(max_depth=10, max_leaf_nodes=None)\n",
    "tree.fit(X_train, y_train)\n",
    "print(\"Accuracy on training set: {:.10f}\".format(tree.score(X_train, y_train)))\n",
    "print(\"Accuracy on test set: {:.10f}\".format(tree.score(X_test, y_test)))"
   ]
  },
  {
   "cell_type": "code",
   "execution_count": 22,
   "id": "79f857bd",
   "metadata": {},
   "outputs": [
    {
     "name": "stdout",
     "output_type": "stream",
     "text": [
      "Accuracy on training set: 0.9910306015\n",
      "Accuracy on test set: 0.9889253486\n"
     ]
    }
   ],
   "source": [
    "# svc\n",
    "svc = svm.SVC()\n",
    "svc.fit(X_train,y_train)\n",
    "\n",
    "print(\"Accuracy on training set: {:.10f}\".format(svc.score(X_train, y_train)))\n",
    "print(\"Accuracy on test set: {:.10f}\".format(svc.score(X_test, y_test)))"
   ]
  },
  {
   "cell_type": "code",
   "execution_count": null,
   "id": "973e18ad",
   "metadata": {},
   "outputs": [
    {
     "name": "stdout",
     "output_type": "stream",
     "text": [
      "Epoch 1/80\n",
      "178/178 [==============================] - 1s 1ms/step - loss: 0.4661 - accuracy: 0.7715 - val_loss: 0.2709 - val_accuracy: 0.8847\n",
      "Epoch 2/80\n",
      "178/178 [==============================] - 0s 949us/step - loss: 0.2742 - accuracy: 0.8864 - val_loss: 0.1734 - val_accuracy: 0.9069\n",
      "Epoch 3/80\n",
      "178/178 [==============================] - 0s 943us/step - loss: 0.1841 - accuracy: 0.9210 - val_loss: 0.1157 - val_accuracy: 0.9537\n",
      "Epoch 4/80\n",
      "178/178 [==============================] - 0s 949us/step - loss: 0.1152 - accuracy: 0.9559 - val_loss: 0.0473 - val_accuracy: 0.9848\n",
      "Epoch 5/80\n",
      "178/178 [==============================] - 0s 954us/step - loss: 0.0748 - accuracy: 0.9722 - val_loss: 0.0273 - val_accuracy: 0.9906\n",
      "Epoch 6/80\n",
      "178/178 [==============================] - 0s 944us/step - loss: 0.0548 - accuracy: 0.9807 - val_loss: 0.0175 - val_accuracy: 0.9938\n",
      "Epoch 7/80\n",
      "178/178 [==============================] - 0s 955us/step - loss: 0.0408 - accuracy: 0.9847 - val_loss: 0.0172 - val_accuracy: 0.9938\n",
      "Epoch 8/80\n",
      "178/178 [==============================] - 0s 948us/step - loss: 0.0324 - accuracy: 0.9884 - val_loss: 0.0101 - val_accuracy: 0.9975\n",
      "Epoch 9/80\n",
      "178/178 [==============================] - 0s 950us/step - loss: 0.0262 - accuracy: 0.9902 - val_loss: 0.0075 - val_accuracy: 0.9979\n",
      "Epoch 10/80\n",
      "178/178 [==============================] - 0s 983us/step - loss: 0.0213 - accuracy: 0.9928 - val_loss: 0.0070 - val_accuracy: 0.9971\n",
      "Epoch 11/80\n",
      "178/178 [==============================] - 0s 996us/step - loss: 0.0186 - accuracy: 0.9928 - val_loss: 0.0057 - val_accuracy: 0.9984\n",
      "Epoch 12/80\n",
      "178/178 [==============================] - 0s 966us/step - loss: 0.0185 - accuracy: 0.9944 - val_loss: 0.0050 - val_accuracy: 0.9988\n",
      "Epoch 13/80\n",
      "178/178 [==============================] - 0s 966us/step - loss: 0.0142 - accuracy: 0.9949 - val_loss: 0.0064 - val_accuracy: 0.9979\n",
      "Epoch 14/80\n",
      "178/178 [==============================] - 0s 966us/step - loss: 0.0090 - accuracy: 0.9963 - val_loss: 0.0027 - val_accuracy: 0.9992\n",
      "Epoch 15/80\n",
      "178/178 [==============================] - 0s 949us/step - loss: 0.0136 - accuracy: 0.9945 - val_loss: 0.0030 - val_accuracy: 0.9996\n",
      "Epoch 16/80\n",
      "178/178 [==============================] - 0s 955us/step - loss: 0.0102 - accuracy: 0.9974 - val_loss: 0.0046 - val_accuracy: 0.9984\n",
      "Epoch 17/80\n",
      "178/178 [==============================] - 0s 955us/step - loss: 0.0152 - accuracy: 0.9961 - val_loss: 0.0013 - val_accuracy: 0.9996\n",
      "Epoch 18/80\n",
      "178/178 [==============================] - 0s 968us/step - loss: 0.0090 - accuracy: 0.9960 - val_loss: 0.0035 - val_accuracy: 0.9988\n",
      "Epoch 19/80\n",
      "178/178 [==============================] - 0s 953us/step - loss: 0.0066 - accuracy: 0.9988 - val_loss: 0.0045 - val_accuracy: 0.9988\n",
      "Epoch 20/80\n",
      "178/178 [==============================] - 0s 960us/step - loss: 0.0082 - accuracy: 0.9974 - val_loss: 6.2040e-04 - val_accuracy: 1.0000\n",
      "Epoch 21/80\n",
      "178/178 [==============================] - 0s 949us/step - loss: 0.0085 - accuracy: 0.9972 - val_loss: 0.0033 - val_accuracy: 0.9988\n",
      "Epoch 22/80\n",
      "178/178 [==============================] - 0s 955us/step - loss: 0.0074 - accuracy: 0.9979 - val_loss: 0.0012 - val_accuracy: 1.0000\n",
      "Epoch 23/80\n",
      "178/178 [==============================] - 0s 949us/step - loss: 0.0079 - accuracy: 0.9974 - val_loss: 3.6513e-04 - val_accuracy: 1.0000\n",
      "Epoch 24/80\n",
      "178/178 [==============================] - 0s 960us/step - loss: 0.0068 - accuracy: 0.9979 - val_loss: 0.0018 - val_accuracy: 0.9992\n",
      "Epoch 25/80\n",
      "178/178 [==============================] - 0s 955us/step - loss: 0.0055 - accuracy: 0.9988 - val_loss: 0.0011 - val_accuracy: 0.9996\n",
      "Epoch 26/80\n",
      "178/178 [==============================] - 0s 966us/step - loss: 0.0056 - accuracy: 0.9977 - val_loss: 5.0846e-04 - val_accuracy: 1.0000\n",
      "Epoch 27/80\n",
      "178/178 [==============================] - 0s 955us/step - loss: 0.0043 - accuracy: 0.9989 - val_loss: 2.1975e-04 - val_accuracy: 1.0000\n",
      "Epoch 28/80\n",
      "178/178 [==============================] - 0s 955us/step - loss: 0.0079 - accuracy: 0.9977 - val_loss: 0.0042 - val_accuracy: 0.9988\n",
      "Epoch 29/80\n",
      "178/178 [==============================] - 0s 955us/step - loss: 0.0105 - accuracy: 0.9974 - val_loss: 0.0016 - val_accuracy: 0.9996\n",
      "Epoch 30/80\n",
      "178/178 [==============================] - 0s 949us/step - loss: 0.0077 - accuracy: 0.9975 - val_loss: 0.0011 - val_accuracy: 0.9996\n",
      "Epoch 31/80\n",
      "178/178 [==============================] - 0s 966us/step - loss: 0.0039 - accuracy: 0.9989 - val_loss: 0.0012 - val_accuracy: 0.9996\n",
      "Epoch 32/80\n",
      "178/178 [==============================] - 0s 955us/step - loss: 0.0081 - accuracy: 0.9981 - val_loss: 8.6838e-04 - val_accuracy: 0.9996\n",
      "Epoch 33/80\n",
      "178/178 [==============================] - 0s 955us/step - loss: 0.0109 - accuracy: 0.9970 - val_loss: 0.0012 - val_accuracy: 0.9996\n",
      "Epoch 34/80\n",
      "178/178 [==============================] - 0s 966us/step - loss: 0.0038 - accuracy: 0.9991 - val_loss: 4.5123e-04 - val_accuracy: 1.0000\n",
      "Epoch 35/80\n",
      "178/178 [==============================] - 0s 955us/step - loss: 0.0050 - accuracy: 0.9989 - val_loss: 7.0176e-04 - val_accuracy: 0.9996\n",
      "Epoch 36/80\n",
      "178/178 [==============================] - 0s 963us/step - loss: 0.0079 - accuracy: 0.9972 - val_loss: 3.1677e-04 - val_accuracy: 1.0000\n",
      "Epoch 37/80\n",
      "178/178 [==============================] - 0s 952us/step - loss: 0.0043 - accuracy: 0.9984 - val_loss: 7.9390e-04 - val_accuracy: 0.9996\n",
      "Epoch 38/80\n",
      "178/178 [==============================] - 0s 943us/step - loss: 0.0035 - accuracy: 0.9995 - val_loss: 1.4480e-04 - val_accuracy: 1.0000\n",
      "Epoch 39/80\n",
      "178/178 [==============================] - 0s 949us/step - loss: 0.0026 - accuracy: 0.9996 - val_loss: 1.1710e-04 - val_accuracy: 1.0000\n",
      "Epoch 40/80\n",
      "178/178 [==============================] - 0s 959us/step - loss: 0.0058 - accuracy: 0.9975 - val_loss: 3.4536e-04 - val_accuracy: 1.0000\n",
      "Epoch 41/80\n",
      "178/178 [==============================] - 0s 961us/step - loss: 0.0087 - accuracy: 0.9970 - val_loss: 1.6552e-04 - val_accuracy: 1.0000\n",
      "Epoch 42/80\n",
      "178/178 [==============================] - 0s 966us/step - loss: 0.0023 - accuracy: 0.9993 - val_loss: 1.7874e-04 - val_accuracy: 1.0000\n",
      "Epoch 43/80\n",
      "178/178 [==============================] - 0s 964us/step - loss: 0.0167 - accuracy: 0.9940 - val_loss: 5.3848e-04 - val_accuracy: 1.0000\n",
      "Epoch 44/80\n",
      "178/178 [==============================] - 0s 955us/step - loss: 0.0106 - accuracy: 0.9972 - val_loss: 0.0038 - val_accuracy: 0.9988\n",
      "Epoch 45/80\n",
      "178/178 [==============================] - 0s 955us/step - loss: 0.0030 - accuracy: 0.9993 - val_loss: 2.0920e-04 - val_accuracy: 1.0000\n",
      "Epoch 46/80\n",
      "178/178 [==============================] - 0s 966us/step - loss: 0.0014 - accuracy: 1.0000 - val_loss: 9.1361e-05 - val_accuracy: 1.0000\n",
      "Epoch 47/80\n",
      "178/178 [==============================] - 0s 966us/step - loss: 0.0054 - accuracy: 0.9991 - val_loss: 1.5437e-04 - val_accuracy: 1.0000\n",
      "Epoch 48/80\n",
      "178/178 [==============================] - 0s 960us/step - loss: 0.0069 - accuracy: 0.9984 - val_loss: 0.0014 - val_accuracy: 0.9996\n",
      "Epoch 49/80\n",
      "178/178 [==============================] - 0s 960us/step - loss: 0.0031 - accuracy: 0.9995 - val_loss: 1.8818e-04 - val_accuracy: 1.0000\n",
      "Epoch 50/80\n",
      "178/178 [==============================] - 0s 960us/step - loss: 0.0063 - accuracy: 0.9979 - val_loss: 0.0038 - val_accuracy: 0.9975\n",
      "Epoch 51/80\n",
      "178/178 [==============================] - 0s 943us/step - loss: 0.0100 - accuracy: 0.9970 - val_loss: 2.5241e-04 - val_accuracy: 1.0000\n",
      "Epoch 52/80\n",
      "178/178 [==============================] - 0s 960us/step - loss: 0.0049 - accuracy: 0.9989 - val_loss: 1.6342e-04 - val_accuracy: 1.0000\n",
      "Epoch 53/80\n",
      "178/178 [==============================] - 0s 949us/step - loss: 0.0032 - accuracy: 0.9989 - val_loss: 9.9748e-05 - val_accuracy: 1.0000\n",
      "Epoch 54/80\n",
      "178/178 [==============================] - 0s 960us/step - loss: 0.0043 - accuracy: 0.9986 - val_loss: 2.8212e-04 - val_accuracy: 1.0000\n",
      "Epoch 55/80\n",
      "178/178 [==============================] - 0s 960us/step - loss: 0.0065 - accuracy: 0.9984 - val_loss: 9.1092e-05 - val_accuracy: 1.0000\n",
      "Epoch 56/80\n",
      "178/178 [==============================] - 0s 971us/step - loss: 0.0015 - accuracy: 0.9998 - val_loss: 4.0976e-05 - val_accuracy: 1.0000\n"
     ]
    },
    {
     "name": "stdout",
     "output_type": "stream",
     "text": [
      "Epoch 57/80\n",
      "178/178 [==============================] - 0s 960us/step - loss: 0.0014 - accuracy: 0.9998 - val_loss: 5.4145e-04 - val_accuracy: 1.0000\n",
      "Epoch 58/80\n",
      "178/178 [==============================] - 0s 980us/step - loss: 9.9264e-04 - accuracy: 0.9998 - val_loss: 4.7112e-05 - val_accuracy: 1.0000\n",
      "Epoch 59/80\n",
      "178/178 [==============================] - 0s 943us/step - loss: 0.0016 - accuracy: 0.9993 - val_loss: 6.2520e-05 - val_accuracy: 1.0000\n",
      "Epoch 60/80\n",
      "178/178 [==============================] - 0s 955us/step - loss: 0.0058 - accuracy: 0.9982 - val_loss: 7.9543e-04 - val_accuracy: 1.0000\n",
      "Epoch 61/80\n",
      "178/178 [==============================] - 0s 960us/step - loss: 0.0049 - accuracy: 0.9984 - val_loss: 2.6348e-04 - val_accuracy: 1.0000\n",
      "Epoch 62/80\n",
      "178/178 [==============================] - 0s 949us/step - loss: 0.0023 - accuracy: 0.9991 - val_loss: 1.5025e-04 - val_accuracy: 1.0000\n",
      "Epoch 63/80\n",
      "178/178 [==============================] - 0s 949us/step - loss: 0.0056 - accuracy: 0.9981 - val_loss: 3.9759e-04 - val_accuracy: 1.0000\n",
      "Epoch 64/80\n",
      "178/178 [==============================] - 0s 955us/step - loss: 0.0068 - accuracy: 0.9977 - val_loss: 0.0015 - val_accuracy: 0.9996\n",
      "Epoch 65/80\n",
      "178/178 [==============================] - 0s 977us/step - loss: 0.0044 - accuracy: 0.9991 - val_loss: 5.5365e-04 - val_accuracy: 1.0000\n",
      "Epoch 66/80\n",
      "178/178 [==============================] - 0s 955us/step - loss: 0.0056 - accuracy: 0.9988 - val_loss: 1.5769e-04 - val_accuracy: 1.0000\n",
      "Epoch 67/80\n",
      "178/178 [==============================] - 0s 972us/step - loss: 0.0049 - accuracy: 0.9993 - val_loss: 1.9360e-04 - val_accuracy: 1.0000\n",
      "Epoch 68/80\n",
      "178/178 [==============================] - 0s 966us/step - loss: 0.0031 - accuracy: 0.9993 - val_loss: 1.9998e-04 - val_accuracy: 1.0000\n",
      "Epoch 69/80\n",
      "178/178 [==============================] - 0s 949us/step - loss: 0.0070 - accuracy: 0.9984 - val_loss: 2.0594e-04 - val_accuracy: 1.0000\n",
      "Epoch 70/80\n",
      "178/178 [==============================] - 0s 955us/step - loss: 0.0033 - accuracy: 0.9989 - val_loss: 1.3460e-04 - val_accuracy: 1.0000\n",
      "Epoch 71/80\n",
      "178/178 [==============================] - 0s 966us/step - loss: 0.0021 - accuracy: 0.9995 - val_loss: 3.6810e-05 - val_accuracy: 1.0000\n",
      "Epoch 72/80\n",
      "178/178 [==============================] - 0s 970us/step - loss: 0.0095 - accuracy: 0.9968 - val_loss: 7.9770e-04 - val_accuracy: 0.9996\n",
      "Epoch 73/80\n",
      "178/178 [==============================] - 0s 962us/step - loss: 0.0019 - accuracy: 0.9998 - val_loss: 1.5491e-05 - val_accuracy: 1.0000\n",
      "Epoch 74/80\n",
      "178/178 [==============================] - 0s 943us/step - loss: 0.0026 - accuracy: 0.9991 - val_loss: 1.1845e-04 - val_accuracy: 1.0000\n",
      "Epoch 75/80\n",
      "136/178 [=====================>........] - ETA: 0s - loss: 0.0013 - accuracy: 0.9998  "
     ]
    }
   ],
   "source": [
    "from tensorflow.keras.models import Sequential\n",
    "from tensorflow.keras.layers import Dense\n",
    "from tensorflow.keras.callbacks import History\n",
    "from tensorflow.keras.layers import Dense, Activation,Dropout,Flatten\n",
    "from tensorflow.keras.constraints import max_norm\n",
    "from sklearn.model_selection import cross_val_score\n",
    "from sklearn.preprocessing import LabelEncoder\n",
    "from sklearn.model_selection import StratifiedKFold\n",
    "\n",
    "history = History()\n",
    "model = Sequential()\n",
    "model.add(Dense(100,  activation='relu',input_shape=(X_train.shape[1],)))\n",
    "model.add(Dropout(0.2))\n",
    "model.add(Dense(50, activation='relu'))\n",
    "model.add(Dropout(0.2))\n",
    "model.add(Dense(10, activation='relu'))\n",
    "model.add(Dropout(0.2))\n",
    "model.add(Dense(units=1,activation='sigmoid'))\n",
    "\n",
    "Adam = keras.optimizers.Adam(learning_rate=0.001, beta_1=0.9, beta_2=0.999, amsgrad=True)\n",
    "model.compile(loss='binary_crossentropy', optimizer='adam',metrics=['accuracy'])\n",
    "model.fit(X_train, \n",
    "          y_train,\n",
    "          validation_data= (X_test, y_test),\n",
    "          batch_size=32,\n",
    "          epochs=80,\n",
    "          callbacks=[history])\n"
   ]
  },
  {
   "cell_type": "code",
   "execution_count": 43,
   "id": "8de7e44a",
   "metadata": {},
   "outputs": [
    {
     "data": {
      "text/plain": [
       "dict_keys(['loss', 'accuracy', 'val_loss', 'val_accuracy'])"
      ]
     },
     "execution_count": 43,
     "metadata": {},
     "output_type": "execute_result"
    }
   ],
   "source": [
    "history.history.keys()"
   ]
  },
  {
   "cell_type": "code",
   "execution_count": 44,
   "id": "1003540c",
   "metadata": {},
   "outputs": [
    {
     "data": {
      "image/png": "[encoded data removed]",
      "text/plain": [
       "<Figure size 1008x576 with 1 Axes>"
      ]
     },
     "metadata": {
      "needs_background": "light"
     },
     "output_type": "display_data"
    }
   ],
   "source": [
    "# model_loss = pd.DataFrame(model.history.history)\n",
    "# model_loss.plot()\n",
    "# model_loss = pd.DataFrame(model.history.history)\n",
    "# model_loss.plot()\n",
    "\n",
    "import matplotlib.pyplot as plt\n",
    "plt.subplots(figsize=(14, 8))\n",
    "# sns.heatmap(data.corr())\n",
    "plt.plot(history.history['accuracy'], label = \"tarina\")\n",
    "plt.plot(history.history['val_accuracy'], label = \"test\")\n",
    "plt.plot(history.history['loss'], label = \"tarina\")\n",
    "plt.plot(history.history['val_loss'], label = \"test\")\n",
    "plt.legend()\n",
    "plt.show()"
   ]
  },
  {
   "cell_type": "code",
   "execution_count": 45,
   "id": "191aa817",
   "metadata": {},
   "outputs": [],
   "source": [
    "preds=model.predict(X_test)\n",
    "preds = pd.DataFrame(preds)"
   ]
  },
  {
   "cell_type": "code",
   "execution_count": 46,
   "id": "8907e411",
   "metadata": {},
   "outputs": [
    {
     "data": {
      "text/plain": [
       "1.0"
      ]
     },
     "execution_count": 46,
     "metadata": {},
     "output_type": "execute_result"
    }
   ],
   "source": [
    "preds[0] = (preds[0] > .5).astype(int)\n",
    "metrics.accuracy_score(y_true= y_test, y_pred= preds)"
   ]
  }
 ],
 "metadata": {
  "kernelspec": {
   "display_name": "Python 3",
   "language": "python",
   "name": "python3"
  },
  "language_info": {
   "codemirror_mode": {
    "name": "ipython",
    "version": 3
   },
   "file_extension": ".py",
   "mimetype": "text/x-python",
   "name": "python",
   "nbconvert_exporter": "python",
   "pygments_lexer": "ipython3",
   "version": "3.9.4"
  }
 },
 "nbformat": 4,
 "nbformat_minor": 5
}
