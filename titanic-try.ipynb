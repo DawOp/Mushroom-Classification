{
 "cells": [
  {
   "cell_type": "code",
   "execution_count": 149,
   "id": "133082af",
   "metadata": {},
   "outputs": [],
   "source": [
    "import os\n",
    "import pandas as pd\n",
    "\n",
    "from sklearn.preprocessing import OrdinalEncoder\n",
    "from sklearn.impute import KNNImputer, SimpleImputer\n",
    "from sklearn.preprocessing import StandardScaler\n",
    "from sklearn.model_selection import train_test_split\n",
    "from keras.regularizers import l2\n",
    "\n",
    "TITANIC_PATH = \"datasets\"\n",
    "\n",
    "def load_titanic_data(filename, titanic_path=TITANIC_PATH):\n",
    "    csv_path = os.path.join(titanic_path, filename)\n",
    "    return pd.read_csv(csv_path, index_col='PassengerId')"
   ]
  },
  {
   "cell_type": "code",
   "execution_count": 150,
   "id": "478ec653",
   "metadata": {},
   "outputs": [],
   "source": [
    "train_data, test_data = load_titanic_data(\"train.csv\"), load_titanic_data(\"test.csv\")\n",
    "train_data.drop(columns=['Cabin', 'Name', 'Ticket'], inplace=True)\n",
    "test_data.drop(columns=['Cabin', 'Name', 'Ticket'], inplace=True)\n",
    "# catboost nie potrzebuje zmiany kategorycznych na inty. Można dać kategoryczne kolumny do Pool\n",
    "cat_columns = train_data.select_dtypes(include=pd.Categorical).columns\n",
    "num_columns = train_data.select_dtypes(exclude=pd.Categorical).columns\n",
    "\n",
    "train_data[cat_columns] = SimpleImputer(strategy='most_frequent').fit_transform(train_data[cat_columns])\n",
    "test_data[cat_columns] = SimpleImputer(strategy='most_frequent').fit_transform(test_data[cat_columns])\n",
    "\n",
    "train_data[num_columns] = KNNImputer().fit_transform(train_data[num_columns])\n",
    "test_data[num_columns.drop('Survived')] = KNNImputer().fit_transform(test_data[num_columns.drop('Survived')])\n",
    "\n",
    "cat_encoder = OrdinalEncoder()\n",
    "train_data[cat_columns] = cat_encoder.fit_transform(train_data[cat_columns])\n",
    "test_data[cat_columns] = cat_encoder.transform(test_data[cat_columns])\n",
    "\n",
    "scaler = StandardScaler()\n",
    "scaler.fit(train_data.append(test_data)[num_columns.drop('Survived')])\n",
    "train_data[num_columns.drop('Survived')] = scaler.transform(train_data[num_columns.drop('Survived')])\n",
    "\n",
    "test_data[num_columns.drop('Survived')] = scaler.transform(test_data[num_columns.drop('Survived')])\n",
    "\n",
    "\n",
    "\n",
    "X_train, y_train = train_data[[c for c in train_data.columns if c != 'Survived']], train_data['Survived']\n",
    "X_test = test_data[[c for c in train_data.columns if c != 'Survived']]"
   ]
  },
  {
   "cell_type": "code",
   "execution_count": 151,
   "id": "29600fd8",
   "metadata": {},
   "outputs": [],
   "source": [
    "# X_train, y_train = train_data[[c for c in train_data.columns if c != 'Survived']], train_data['Survived']\n",
    "# X_test = test_data[[c for c in train_data.columns if c != 'Survived']]"
   ]
  },
  {
   "cell_type": "code",
   "execution_count": 152,
   "id": "dc687a1d",
   "metadata": {},
   "outputs": [
    {
     "data": {
      "text/plain": [
       "PassengerId\n",
       "1    0.0\n",
       "2    1.0\n",
       "3    1.0\n",
       "4    1.0\n",
       "5    0.0\n",
       "Name: Survived, dtype: float64"
      ]
     },
     "execution_count": 152,
     "metadata": {},
     "output_type": "execute_result"
    }
   ],
   "source": [
    "y_train.head()"
   ]
  },
  {
   "cell_type": "code",
   "execution_count": 153,
   "id": "20913f06",
   "metadata": {},
   "outputs": [
    {
     "data": {
      "text/html": [
       "<div>\n",
       "<style scoped>\n",
       "    .dataframe tbody tr th:only-of-type {\n",
       "        vertical-align: middle;\n",
       "    }\n",
       "\n",
       "    .dataframe tbody tr th {\n",
       "        vertical-align: top;\n",
       "    }\n",
       "\n",
       "    .dataframe thead th {\n",
       "        text-align: right;\n",
       "    }\n",
       "</style>\n",
       "<table border=\"1\" class=\"dataframe\">\n",
       "  <thead>\n",
       "    <tr style=\"text-align: right;\">\n",
       "      <th></th>\n",
       "      <th>Pclass</th>\n",
       "      <th>Sex</th>\n",
       "      <th>Age</th>\n",
       "      <th>SibSp</th>\n",
       "      <th>Parch</th>\n",
       "      <th>Fare</th>\n",
       "      <th>Embarked</th>\n",
       "    </tr>\n",
       "    <tr>\n",
       "      <th>PassengerId</th>\n",
       "      <th></th>\n",
       "      <th></th>\n",
       "      <th></th>\n",
       "      <th></th>\n",
       "      <th></th>\n",
       "      <th></th>\n",
       "      <th></th>\n",
       "    </tr>\n",
       "  </thead>\n",
       "  <tbody>\n",
       "    <tr>\n",
       "      <th>892</th>\n",
       "      <td>0.841916</td>\n",
       "      <td>1.0</td>\n",
       "      <td>0.327174</td>\n",
       "      <td>-0.479087</td>\n",
       "      <td>-0.445000</td>\n",
       "      <td>-0.491999</td>\n",
       "      <td>1.0</td>\n",
       "    </tr>\n",
       "    <tr>\n",
       "      <th>893</th>\n",
       "      <td>0.841916</td>\n",
       "      <td>0.0</td>\n",
       "      <td>1.261126</td>\n",
       "      <td>0.481288</td>\n",
       "      <td>-0.445000</td>\n",
       "      <td>-0.508031</td>\n",
       "      <td>2.0</td>\n",
       "    </tr>\n",
       "    <tr>\n",
       "      <th>894</th>\n",
       "      <td>-0.352091</td>\n",
       "      <td>1.0</td>\n",
       "      <td>2.381869</td>\n",
       "      <td>-0.479087</td>\n",
       "      <td>-0.445000</td>\n",
       "      <td>-0.456071</td>\n",
       "      <td>1.0</td>\n",
       "    </tr>\n",
       "    <tr>\n",
       "      <th>895</th>\n",
       "      <td>0.841916</td>\n",
       "      <td>1.0</td>\n",
       "      <td>-0.233198</td>\n",
       "      <td>-0.479087</td>\n",
       "      <td>-0.445000</td>\n",
       "      <td>-0.475888</td>\n",
       "      <td>2.0</td>\n",
       "    </tr>\n",
       "    <tr>\n",
       "      <th>896</th>\n",
       "      <td>0.841916</td>\n",
       "      <td>0.0</td>\n",
       "      <td>-0.606779</td>\n",
       "      <td>0.481288</td>\n",
       "      <td>0.710763</td>\n",
       "      <td>-0.405804</td>\n",
       "      <td>2.0</td>\n",
       "    </tr>\n",
       "  </tbody>\n",
       "</table>\n",
       "</div>"
      ],
      "text/plain": [
       "               Pclass  Sex       Age     SibSp     Parch      Fare  Embarked\n",
       "PassengerId                                                                 \n",
       "892          0.841916  1.0  0.327174 -0.479087 -0.445000 -0.491999       1.0\n",
       "893          0.841916  0.0  1.261126  0.481288 -0.445000 -0.508031       2.0\n",
       "894         -0.352091  1.0  2.381869 -0.479087 -0.445000 -0.456071       1.0\n",
       "895          0.841916  1.0 -0.233198 -0.479087 -0.445000 -0.475888       2.0\n",
       "896          0.841916  0.0 -0.606779  0.481288  0.710763 -0.405804       2.0"
      ]
     },
     "execution_count": 153,
     "metadata": {},
     "output_type": "execute_result"
    }
   ],
   "source": [
    "X_test.head()"
   ]
  },
  {
   "cell_type": "code",
   "execution_count": 154,
   "id": "c5d77329",
   "metadata": {},
   "outputs": [],
   "source": [
    "# from sklearn.preprocessing import StandardScaler\n",
    "\n",
    "# to_be_scaled = ['Age', 'Fare', 'Parch', 'Pclass', 'SibSp']\n",
    "\n",
    "# scaler = StandardScaler()\n",
    "\n",
    "# for var in to_be_scaled:\n",
    "#     X_train[var] = X_train[var].astype('float64')\n",
    "#     X_train[var] = scaler.fit_transform(X_train[var].values.reshape(-1, 1))"
   ]
  },
  {
   "cell_type": "code",
   "execution_count": 155,
   "id": "fd028eaa",
   "metadata": {},
   "outputs": [
    {
     "data": {
      "text/html": [
       "<div>\n",
       "<style scoped>\n",
       "    .dataframe tbody tr th:only-of-type {\n",
       "        vertical-align: middle;\n",
       "    }\n",
       "\n",
       "    .dataframe tbody tr th {\n",
       "        vertical-align: top;\n",
       "    }\n",
       "\n",
       "    .dataframe thead th {\n",
       "        text-align: right;\n",
       "    }\n",
       "</style>\n",
       "<table border=\"1\" class=\"dataframe\">\n",
       "  <thead>\n",
       "    <tr style=\"text-align: right;\">\n",
       "      <th></th>\n",
       "      <th>Pclass</th>\n",
       "      <th>Sex</th>\n",
       "      <th>Age</th>\n",
       "      <th>SibSp</th>\n",
       "      <th>Parch</th>\n",
       "      <th>Fare</th>\n",
       "      <th>Embarked</th>\n",
       "    </tr>\n",
       "    <tr>\n",
       "      <th>PassengerId</th>\n",
       "      <th></th>\n",
       "      <th></th>\n",
       "      <th></th>\n",
       "      <th></th>\n",
       "      <th></th>\n",
       "      <th></th>\n",
       "      <th></th>\n",
       "    </tr>\n",
       "  </thead>\n",
       "  <tbody>\n",
       "    <tr>\n",
       "      <th>1</th>\n",
       "      <td>0.841916</td>\n",
       "      <td>1.0</td>\n",
       "      <td>-0.606779</td>\n",
       "      <td>0.481288</td>\n",
       "      <td>-0.445</td>\n",
       "      <td>-0.503197</td>\n",
       "      <td>2.0</td>\n",
       "    </tr>\n",
       "    <tr>\n",
       "      <th>2</th>\n",
       "      <td>-1.546098</td>\n",
       "      <td>0.0</td>\n",
       "      <td>0.588680</td>\n",
       "      <td>0.481288</td>\n",
       "      <td>-0.445</td>\n",
       "      <td>0.734798</td>\n",
       "      <td>0.0</td>\n",
       "    </tr>\n",
       "    <tr>\n",
       "      <th>3</th>\n",
       "      <td>0.841916</td>\n",
       "      <td>0.0</td>\n",
       "      <td>-0.307914</td>\n",
       "      <td>-0.479087</td>\n",
       "      <td>-0.445</td>\n",
       "      <td>-0.490147</td>\n",
       "      <td>2.0</td>\n",
       "    </tr>\n",
       "    <tr>\n",
       "      <th>4</th>\n",
       "      <td>-1.546098</td>\n",
       "      <td>0.0</td>\n",
       "      <td>0.364532</td>\n",
       "      <td>0.481288</td>\n",
       "      <td>-0.445</td>\n",
       "      <td>0.383249</td>\n",
       "      <td>2.0</td>\n",
       "    </tr>\n",
       "    <tr>\n",
       "      <th>5</th>\n",
       "      <td>0.841916</td>\n",
       "      <td>1.0</td>\n",
       "      <td>0.364532</td>\n",
       "      <td>-0.479087</td>\n",
       "      <td>-0.445</td>\n",
       "      <td>-0.487730</td>\n",
       "      <td>2.0</td>\n",
       "    </tr>\n",
       "  </tbody>\n",
       "</table>\n",
       "</div>"
      ],
      "text/plain": [
       "               Pclass  Sex       Age     SibSp  Parch      Fare  Embarked\n",
       "PassengerId                                                              \n",
       "1            0.841916  1.0 -0.606779  0.481288 -0.445 -0.503197       2.0\n",
       "2           -1.546098  0.0  0.588680  0.481288 -0.445  0.734798       0.0\n",
       "3            0.841916  0.0 -0.307914 -0.479087 -0.445 -0.490147       2.0\n",
       "4           -1.546098  0.0  0.364532  0.481288 -0.445  0.383249       2.0\n",
       "5            0.841916  1.0  0.364532 -0.479087 -0.445 -0.487730       2.0"
      ]
     },
     "execution_count": 155,
     "metadata": {},
     "output_type": "execute_result"
    }
   ],
   "source": [
    "X_train.head()"
   ]
  },
  {
   "cell_type": "code",
   "execution_count": 156,
   "id": "db49c6af",
   "metadata": {},
   "outputs": [],
   "source": [
    "from keras.models import Sequential\n",
    "from keras.layers import Dense, Activation, Dropout, BatchNormalization\n",
    "from numpy.random import seed\n",
    "import tensorflow as tf\n",
    "\n",
    "def create_model(lyrs=[8], act='relu', opt='Adam', dr=0.0):\n",
    "    # set random seed for reproducibility\n",
    "    seed(42)\n",
    "    tf.random.set_seed(42)\n",
    "\n",
    "    model = Sequential()\n",
    "\n",
    "    # create first hidden layer\n",
    "    model.add(Dense(lyrs[0], input_dim=X_train.shape[1], activation=act))\n",
    "    # hidden layers\n",
    "    model.add(Dense(40, activation=act, kernel_regularizer=l2(0.01), bias_regularizer=l2(0.01)))\n",
    "    model.add(Dense(20, activation=act, kernel_regularizer=l2(0.01), bias_regularizer=l2(0.01)))\n",
    "    model.add(Dense(10, activation=act, kernel_regularizer=l2(0.01), bias_regularizer=l2(0.01)))\n",
    "\n",
    "    # output layer\n",
    "    model.add(Dense(1, activation='sigmoid'))  \n",
    "\n",
    "    model.compile(loss='binary_crossentropy', optimizer=opt, metrics=['accuracy'])\n",
    "\n",
    "    return model"
   ]
  },
  {
   "cell_type": "code",
   "execution_count": 157,
   "id": "e893027c",
   "metadata": {},
   "outputs": [
    {
     "name": "stdout",
     "output_type": "stream",
     "text": [
      "Model: \"sequential_29\"\n",
      "_________________________________________________________________\n",
      "Layer (type)                 Output Shape              Param #   \n",
      "=================================================================\n",
      "dense_113 (Dense)            (None, 8)                 64        \n",
      "_________________________________________________________________\n",
      "dense_114 (Dense)            (None, 40)                360       \n",
      "_________________________________________________________________\n",
      "dense_115 (Dense)            (None, 20)                820       \n",
      "_________________________________________________________________\n",
      "dense_116 (Dense)            (None, 10)                210       \n",
      "_________________________________________________________________\n",
      "dense_117 (Dense)            (None, 1)                 11        \n",
      "=================================================================\n",
      "Total params: 1,465\n",
      "Trainable params: 1,465\n",
      "Non-trainable params: 0\n",
      "_________________________________________________________________\n",
      "None\n"
     ]
    }
   ],
   "source": [
    "model = create_model()\n",
    "print(model.summary())"
   ]
  },
  {
   "cell_type": "code",
   "execution_count": 158,
   "id": "1d633c8c",
   "metadata": {},
   "outputs": [
    {
     "name": "stdout",
     "output_type": "stream",
     "text": [
      "\n",
      "val_accuracy: 84.83%\n"
     ]
    }
   ],
   "source": [
    "import numpy as np\n",
    "training = model.fit(X_train, y_train, epochs=300, batch_size=32, validation_split=0.2, verbose=0)\n",
    "val_acc = np.mean(training.history['val_accuracy'])\n",
    "print(\"\\n%s: %.2f%%\" % ('val_accuracy', val_acc*100))"
   ]
  },
  {
   "cell_type": "code",
   "execution_count": 159,
   "id": "200bc5ee",
   "metadata": {},
   "outputs": [
    {
     "name": "stdout",
     "output_type": "stream",
     "text": [
      "Fitting 3 folds for each of 8 candidates, totalling 24 fits\n",
      "Best: 82.154882 using {'batch_size': 8, 'epochs': 50}\n"
     ]
    }
   ],
   "source": [
    "from sklearn.model_selection import GridSearchCV\n",
    "from keras.wrappers.scikit_learn import KerasClassifier\n",
    "\n",
    "# create model\n",
    "model = KerasClassifier(build_fn=create_model, verbose=0)\n",
    "\n",
    "# define the grid search parameters\n",
    "batch_size = [8, 16, 32, 64]\n",
    "epochs = [50, 100]\n",
    "param_grid = dict(batch_size=batch_size, epochs=epochs)\n",
    "\n",
    "# search the grid\n",
    "grid = GridSearchCV(estimator=model, \n",
    "                    param_grid=param_grid,\n",
    "                    cv=3,\n",
    "                    verbose=2,\n",
    "                    n_jobs=-1)\n",
    "\n",
    "grid_result = grid.fit(train_data[[c for c in train_data.columns if c != 'Survived']], train_data['Survived'])\n",
    "print(\"Best: %f using %s\" % (grid_result.best_score_*100, grid_result.best_params_))"
   ]
  },
  {
   "cell_type": "code",
   "execution_count": 160,
   "id": "2a23d223",
   "metadata": {},
   "outputs": [
    {
     "name": "stdout",
     "output_type": "stream",
     "text": [
      "28/28 [==============================] - 0s 1ms/step - loss: 0.4008 - accuracy: 0.8519\n",
      "\n",
      "accuracy: 85.19%\n"
     ]
    }
   ],
   "source": [
    "model = create_model()\n",
    "model.fit(X_train, y_train, epochs=300, batch_size=8, \n",
    "                     validation_split=0.2, verbose=0)\n",
    "\n",
    "# evaluate the model\n",
    "scores = model.evaluate(X_train, y_train)\n",
    "print(\"\\n%s: %.2f%%\" % (model.metrics_names[1], scores[1]*100))"
   ]
  },
  {
   "cell_type": "code",
   "execution_count": 161,
   "id": "e88b4d21",
   "metadata": {},
   "outputs": [
    {
     "name": "stdout",
     "output_type": "stream",
     "text": [
      "             Survived\n",
      "PassengerId          \n",
      "892                 0\n",
      "893                 0\n",
      "894                 0\n",
      "895                 0\n",
      "896                 0\n"
     ]
    }
   ],
   "source": [
    "preds = model.predict(X_test)\n",
    "preds = pd.DataFrame(preds)\n",
    "preds.columns = ['Survived']\n",
    "preds['Survived'] = (preds['Survived'] > .5).astype(int)\n",
    "preds.index = test_data.index\n",
    "print(preds.head())\n",
    "preds.to_csv(\"gender_submission.csv\", index=True)"
   ]
  },
  {
   "cell_type": "code",
   "execution_count": null,
   "id": "fa44a741",
   "metadata": {},
   "outputs": [],
   "source": []
  }
 ],
 "metadata": {
  "kernelspec": {
   "display_name": "Python 3",
   "language": "python",
   "name": "python3"
  },
  "language_info": {
   "codemirror_mode": {
    "name": "ipython",
    "version": 3
   },
   "file_extension": ".py",
   "mimetype": "text/x-python",
   "name": "python",
   "nbconvert_exporter": "python",
   "pygments_lexer": "ipython3",
   "version": "3.9.4"
  }
 },
 "nbformat": 4,
 "nbformat_minor": 5
}
